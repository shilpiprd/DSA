{
 "cells": [
  {
   "cell_type": "code",
   "execution_count": 1,
   "metadata": {},
   "outputs": [
    {
     "name": "stdin",
     "output_type": "stream",
     "text": [
      " 10 20 20 10 10 30 50 10 20\n"
     ]
    }
   ],
   "source": [
    "ar = list(map(int, input().rstrip().split()))\n"
   ]
  },
  {
   "cell_type": "code",
   "execution_count": 4,
   "metadata": {},
   "outputs": [
    {
     "data": {
      "text/plain": [
       "0"
      ]
     },
     "execution_count": 4,
     "metadata": {},
     "output_type": "execute_result"
    }
   ],
   "source": [
    "0&1&2&3"
   ]
  },
  {
   "cell_type": "code",
   "execution_count": 10,
   "metadata": {},
   "outputs": [
    {
     "name": "stdout",
     "output_type": "stream",
     "text": [
      "{20: 1, 10: 2}\n",
      "1\n",
      "2\n",
      "3\n"
     ]
    }
   ],
   "source": [
    "array=[10, 20, 20, 10, 10, 30, 50, 10, 20]\n",
    "counts=dict()\n",
    "grisha=dict()\n",
    "list1=list()\n",
    "for num in array:\n",
    "    counts[num]=counts.get(num,0)+1\n",
    "    for key,value in counts.items():\n",
    "        if value==2:\n",
    "            grisha[key]=grisha.get(key,0)+1\n",
    "            counts[key]=0\n",
    "print(grisha)\n",
    "for val in grisha.values():\n",
    "    print(val)\n",
    "    list1.append(val)\n",
    "print(sum(list1)) #gives the total pair of socks"
   ]
  },
  {
   "cell_type": "code",
   "execution_count": 16,
   "metadata": {},
   "outputs": [
    {
     "name": "stdout",
     "output_type": "stream",
     "text": [
      "62\n"
     ]
    }
   ],
   "source": [
    "d = {'key1':1,'key2':14,'key3':47}\n",
    "values = d.values()\n",
    "#Return values of a dictionary    \n",
    "total = sum(values)\n",
    "print(total)"
   ]
  },
  {
   "cell_type": "code",
   "execution_count": 22,
   "metadata": {},
   "outputs": [
    {
     "name": "stdin",
     "output_type": "stream",
     "text": [
      " 9\n",
      " 10 20 20 10 10 30 50 10 20\n"
     ]
    },
    {
     "name": "stdout",
     "output_type": "stream",
     "text": [
      "3\n"
     ]
    }
   ],
   "source": [
    "counts=dict()\n",
    "grisha=dict()\n",
    "def sockMerchant(n, ar):\n",
    "    for num in ar:\n",
    "        counts[num]=counts.get(num,0)+1\n",
    "        for key,value in counts.items():\n",
    "            if value==2:\n",
    "                grisha[key]=grisha.get(key,0)+1\n",
    "                counts[key]=0\n",
    "#     print(grisha)\n",
    "#     print('hey')\n",
    "    values=grisha.values()\n",
    "    tot=sum(values)\n",
    "#     print('working')\n",
    "    print(tot)\n",
    "n=int(input()) #gives count of numbers in ar\n",
    "ar = list(map(int, input().rstrip().split()))\n",
    "result = sockMerchant(n, ar)"
   ]
  },
  {
   "cell_type": "code",
   "execution_count": 1,
   "metadata": {},
   "outputs": [],
   "source": [
    "counts=dict()\n",
    "grisha=dict()\n",
    "def sockMerchant(n, ar):\n",
    "    for num in ar:\n",
    "        counts[num]=counts.get(num,0)+1\n",
    "        for key,value in counts.items():\n",
    "            if value==2:\n",
    "                grisha[key]=grisha.get(key,0)+1\n",
    "                counts[key]=0\n",
    "    values=grisha.values()\n",
    "    tot=sum(values)\n",
    "    print(tot)"
   ]
  },
  {
   "cell_type": "code",
   "execution_count": 3,
   "metadata": {},
   "outputs": [
    {
     "name": "stdout",
     "output_type": "stream",
     "text": [
      "25\n"
     ]
    }
   ],
   "source": [
    "def square(a):\n",
    "    return a*a\n",
    "xyz=5\n",
    "gotit=square(xyz)\n",
    "print(gotit)"
   ]
  },
  {
   "cell_type": "code",
   "execution_count": 5,
   "metadata": {},
   "outputs": [
    {
     "name": "stdout",
     "output_type": "stream",
     "text": [
      "[['a', '.', '.', '.', '.'], ['.', '.', '.', '.', '.'], ['.', '.', '.', '.', '.'], ['.', '.', '.', '.', '.'], ['.', '.', '.', '.', '.']]\n"
     ]
    }
   ],
   "source": [
    "grid=[['.', '.', '.', '.', '.'],['.', '.', '.', '.', '.'],['.', '.', '.', '.', '.'],\n",
    "      ['.', '.', '.', '.', '.'],['.', '.', '.', '.', '.']]\n",
    "# print(grid[0][0])\n",
    "grid[0][0]='a'\n",
    "print(grid)"
   ]
  },
  {
   "cell_type": "code",
   "execution_count": 10,
   "metadata": {},
   "outputs": [
    {
     "name": "stdin",
     "output_type": "stream",
     "text": [
      "How wide? 5\n",
      "How high? 5\n"
     ]
    },
    {
     "name": "stdout",
     "output_type": "stream",
     "text": [
      "['.', '.', '.', '.', '.']\n",
      "['.', '.', '.', '.', '.']\n",
      "['.', '.', '.', '.', '.']\n",
      "['.', '.', '.', '.', '.']\n",
      "['.', '.', '.', '.', '.']\n"
     ]
    }
   ],
   "source": [
    "width = int(input(\"How wide?\"))\n",
    "height = int(input(\"How high?\"))\n",
    "grid = []\n",
    "row = []\n",
    "bak = \".\"\n",
    "for i in range(width):\n",
    "    row.append(bak)\n",
    "for i in range(height):\n",
    "    grid.append(row)\n",
    "for i in range(len(grid)):\n",
    "    print(grid[i])\n",
    "# grid[0][0]='a'\n",
    "# print(grid)"
   ]
  },
  {
   "cell_type": "code",
   "execution_count": 11,
   "metadata": {},
   "outputs": [
    {
     "data": {
      "text/plain": [
       "list"
      ]
     },
     "execution_count": 11,
     "metadata": {},
     "output_type": "execute_result"
    }
   ],
   "source": [
    "type(grid)"
   ]
  },
  {
   "cell_type": "code",
   "execution_count": 3,
   "metadata": {},
   "outputs": [
    {
     "name": "stdout",
     "output_type": "stream",
     "text": [
      "Vertex 0: -> 3 -> 2 -> 1 \n",
      "\n",
      "Vertex 1: -> 2 -> 0 \n",
      "\n",
      "Vertex 2: -> 1 -> 0 \n",
      "\n",
      "Vertex 3: -> 0 \n",
      "\n",
      "Vertex 4: \n",
      "\n"
     ]
    }
   ],
   "source": [
    "# Adjascency List representation in Python\n",
    "class AdjNode:\n",
    "    def __init__(self, value):\n",
    "        self.vertex = value\n",
    "        self.next = None\n",
    "class Graph:\n",
    "    def __init__(self, num):\n",
    "        self.V = num\n",
    "        self.graph = [None] * self.V\n",
    "    # Add edges\n",
    "    def add_edge(self, s, d):\n",
    "        node = AdjNode(d)\n",
    "        node.next = self.graph[s]\n",
    "        self.graph[s] = node\n",
    "\n",
    "        node = AdjNode(s)\n",
    "        node.next = self.graph[d]\n",
    "        self.graph[d] = node\n",
    "    # Print the graph\n",
    "    def print_agraph(self):\n",
    "        for i in range(self.V):\n",
    "            print(\"Vertex \" + str(i) + \":\", end=\"\")\n",
    "            temp = self.graph[i]\n",
    "            while temp:\n",
    "                print(\" -> {}\".format(temp.vertex), end=\"\")\n",
    "                temp = temp.next\n",
    "            print(\" \\n\")\n",
    "if __name__ == \"__main__\":\n",
    "    V = 5\n",
    "    # Create graph and edges\n",
    "    graph = Graph(V)\n",
    "    graph.add_edge(0, 1)\n",
    "    graph.add_edge(0, 2)\n",
    "    graph.add_edge(0, 3)\n",
    "    graph.add_edge(1, 2)\n",
    "    graph.print_agraph()"
   ]
  },
  {
   "cell_type": "code",
   "execution_count": null,
   "metadata": {},
   "outputs": [],
   "source": [
    "t= int(input())\n",
    "for i in range(t):\n",
    "    A,B = map(int,input().split())\n",
    "    maximum = A + B\n",
    "    minimum = max(A,B)\n",
    "    "
   ]
  },
  {
   "cell_type": "code",
   "execution_count": 2,
   "metadata": {},
   "outputs": [
    {
     "name": "stdin",
     "output_type": "stream",
     "text": [
      " 1\n"
     ]
    },
    {
     "name": "stdout",
     "output_type": "stream",
     "text": [
      "1\n"
     ]
    },
    {
     "name": "stdin",
     "output_type": "stream",
     "text": [
      " 2\n"
     ]
    },
    {
     "name": "stdout",
     "output_type": "stream",
     "text": [
      "2\n"
     ]
    },
    {
     "name": "stdin",
     "output_type": "stream",
     "text": [
      " 88\n"
     ]
    },
    {
     "name": "stdout",
     "output_type": "stream",
     "text": [
      "88\n"
     ]
    },
    {
     "name": "stdin",
     "output_type": "stream",
     "text": [
      " 42\n"
     ]
    }
   ],
   "source": [
    "reading_input=True\n",
    "while reading_input == True:\n",
    "    N = int(input())\n",
    "    if N==42:\n",
    "        reading_input = False\n",
    "        break\n",
    "    print(N) #else case"
   ]
  },
  {
   "cell_type": "code",
   "execution_count": 1,
   "metadata": {},
   "outputs": [
    {
     "name": "stdout",
     "output_type": "stream",
     "text": [
      "13\n"
     ]
    }
   ],
   "source": [
    "N = 60\n",
    "factor = 1\n",
    "count = 0\n",
    "for co in range(2,N):\n",
    "    if int(str(factor)[-1]) == 0:\n",
    "        count+=1\n",
    "        factor = factor // 10\n",
    "    factor = factor * co\n",
    "print(count)   "
   ]
  },
  {
   "cell_type": "code",
   "execution_count": 4,
   "metadata": {},
   "outputs": [
    {
     "name": "stdin",
     "output_type": "stream",
     "text": [
      " 1\n",
      " 674\n"
     ]
    },
    {
     "name": "stdout",
     "output_type": "stream",
     "text": [
      "166\n"
     ]
    }
   ],
   "source": [
    "t = int(input())\n",
    "for i in range(t):\n",
    "    N =  int(input())\n",
    "    factor = 1\n",
    "    count = 0\n",
    "    for co in range(2,N+1):\n",
    "        factor = factor * co\n",
    "    #we have the value of factor,now find the ending zeros\n",
    "    while factor:\n",
    "        if int(str(factor)[-1]) == 0:\n",
    "            count+=1\n",
    "            factor = factor //10\n",
    "            continue\n",
    "        else:\n",
    "            break\n",
    "    print(count)"
   ]
  },
  {
   "cell_type": "code",
   "execution_count": 11,
   "metadata": {},
   "outputs": [
    {
     "name": "stdout",
     "output_type": "stream",
     "text": [
      "67890\n",
      "9123\n"
     ]
    }
   ],
   "source": [
    "value = 678900\n",
    "value = value // 10\n",
    "print(value)"
   ]
  },
  {
   "cell_type": "code",
   "execution_count": 10,
   "metadata": {},
   "outputs": [
    {
     "data": {
      "text/plain": [
       "5.8"
      ]
     },
     "execution_count": 10,
     "metadata": {},
     "output_type": "execute_result"
    }
   ],
   "source": [
    "29/5"
   ]
  },
  {
   "cell_type": "code",
   "execution_count": 12,
   "metadata": {},
   "outputs": [
    {
     "name": "stdin",
     "output_type": "stream",
     "text": [
      " 2\n",
      " 125\n"
     ]
    },
    {
     "name": "stdout",
     "output_type": "stream",
     "text": [
      "31\n"
     ]
    },
    {
     "name": "stdin",
     "output_type": "stream",
     "text": [
      " 5\n"
     ]
    },
    {
     "name": "stdout",
     "output_type": "stream",
     "text": [
      "1\n"
     ]
    }
   ],
   "source": [
    "t=int(input())\n",
    "for i in range(t):\n",
    "    N =int(input())\n",
    "    count = 0\n",
    "    divisor = 5\n",
    "    while divisor <= N:\n",
    "        tr_zer = N / divisor\n",
    "        increase = int(tr_zer)\n",
    "        count+=increase\n",
    "        divisor = divisor * 5\n",
    "        if increase == 0:\n",
    "            break\n",
    "    print(count)\n",
    "    "
   ]
  },
  {
   "cell_type": "code",
   "execution_count": 38,
   "metadata": {},
   "outputs": [
    {
     "name": "stdin",
     "output_type": "stream",
     "text": [
      " 5858 1234\n"
     ]
    },
    {
     "name": "stdout",
     "output_type": "stream",
     "text": [
      "4624\n",
      "6624"
     ]
    }
   ],
   "source": [
    "A,B = input().split()\n",
    "N = str(int(A) - int(B))\n",
    "print(N)\n",
    "#always changing the first digit\n",
    "L = []\n",
    "output = list(map(int,N))\n",
    "output[0] = output[0] + 2\n",
    "for i in output:\n",
    "    print(i,end='')"
   ]
  },
  {
   "cell_type": "code",
   "execution_count": 10,
   "metadata": {},
   "outputs": [
    {
     "name": "stdout",
     "output_type": "stream",
     "text": [
      "4000"
     ]
    }
   ],
   "source": [
    "# output = list(map(int,N))\n",
    "output = [2,0,0,0]\n",
    "try:\n",
    "    if output[0] > 2:\n",
    "        output[0] = output[0] - 2\n",
    "    elif output[1]>2:\n",
    "        output[1] = output[1] - 2\n",
    "    elif output[-1]>2:\n",
    "        output[-1] = output[-1] - 2\n",
    "    else:\n",
    "        output[0] = output[0] + 2\n",
    "except IndexError:\n",
    "    output[0] = output[0] + 2\n",
    "    pass\n",
    "while output[0]!=0:\n",
    "    for i in output:\n",
    "        print(i,end='')\n",
    "    break"
   ]
  },
  {
   "cell_type": "code",
   "execution_count": 23,
   "metadata": {},
   "outputs": [
    {
     "name": "stdin",
     "output_type": "stream",
     "text": [
      " 1\n",
      " 5\n",
      " 4 9 1 32 13\n"
     ]
    },
    {
     "name": "stdout",
     "output_type": "stream",
     "text": [
      "3\n"
     ]
    }
   ],
   "source": [
    "#a method with O(n^2)time complexity\n",
    "t =int(input())\n",
    "for i in range(t):\n",
    "    differ = []\n",
    "    N =int(input())\n",
    "    L = list(map(int,input().split()))\n",
    "#     print(L)\n",
    "    for i in range(N-1):   #i takes values 0 1 2 3 \n",
    "        for j in range(1,N): #j takes values 1 2 3 4 \n",
    "            diff = abs(L[i] - L[j])\n",
    "            if diff == 0:\n",
    "                continue\n",
    "            if diff not in differ:\n",
    "                differ.append(diff) #value of difference is being added\n",
    "# print(differ)\n",
    "print(min(differ))     \n",
    "\n",
    "# a method with O(nlogn) time complexity\n",
    "#sorting is very important without which the code is wrong\n",
    "N = int(input())\n",
    "L = list(map(int,input().split()))\n",
    "L.sort()\n",
    "print(L)\n",
    "minimum = 10 ** 50\n",
    "for i in range(N - 1): #i takes values : 0 1 2 3 \n",
    "    diff = abs(L[i] - L[i+1])\n",
    "    if int(diff) < int(minimum):\n",
    "        minimum = diff\n",
    "print(minimum)"
   ]
  },
  {
   "cell_type": "code",
   "execution_count": null,
   "metadata": {},
   "outputs": [],
   "source": [
    "# L = [1,3,4,2]\n",
    "t = int(input())\n",
    "for i in range(t):\n",
    "    N = int(input())\n",
    "    L = list(map(int,input().split()))\n",
    "# print(L,'initial list')\n",
    "    johny = str(L[int(input())-1])\n",
    "    # print(johny,'the required number')\n",
    "    output = ''\n",
    "    # output = map(lambda x: print(x,end=''),L)\n",
    "    L.sort()\n",
    "    # print(L,'final list') #want to print( 1234 )\n",
    "    for i in L:\n",
    "        output += str(i)\n",
    "    # print(output)\n",
    "    # value = str(output)\n",
    "    index = output.find(johny)#should give 3\n",
    "    print(index+1)"
   ]
  },
  {
   "cell_type": "code",
   "execution_count": null,
   "metadata": {},
   "outputs": [],
   "source": [
    "t = int(input())\n",
    "for i in range(t):\n",
    "    N = int(input())\n",
    "    L = list(map(int,input().split()))\n",
    "    johny = str(L[int(input())-1]) #gives the value of johny in string format\n",
    "\n",
    "    output = ''\n",
    "    L.sort()\n",
    "\n",
    "    for i in L:\n",
    "        output += str(i)\n",
    "        \n",
    "    index = output.find(johny)\n",
    "    print(index+1)"
   ]
  },
  {
   "cell_type": "code",
   "execution_count": 14,
   "metadata": {},
   "outputs": [
    {
     "data": {
      "text/plain": [
       "0.0"
      ]
     },
     "execution_count": 14,
     "metadata": {},
     "output_type": "execute_result"
    }
   ],
   "source": []
  },
  {
   "cell_type": "code",
   "execution_count": 17,
   "metadata": {},
   "outputs": [
    {
     "name": "stdin",
     "output_type": "stream",
     "text": [
      " 3\n",
      " 0 0 0 0 2\n"
     ]
    },
    {
     "name": "stdout",
     "output_type": "stream",
     "text": [
      "hey there\n",
      "no\n"
     ]
    },
    {
     "ename": "KeyboardInterrupt",
     "evalue": "Interrupted by user",
     "output_type": "error",
     "traceback": [
      "\u001b[0;31m---------------------------------------------------------------------------\u001b[0m",
      "\u001b[0;31mKeyboardInterrupt\u001b[0m                         Traceback (most recent call last)",
      "\u001b[0;32m<ipython-input-17-15ced64af761>\u001b[0m in \u001b[0;36m<module>\u001b[0;34m\u001b[0m\n\u001b[1;32m      3\u001b[0m \u001b[0;32mfor\u001b[0m \u001b[0mi\u001b[0m \u001b[0;32min\u001b[0m \u001b[0mrange\u001b[0m\u001b[0;34m(\u001b[0m\u001b[0mt\u001b[0m\u001b[0;34m)\u001b[0m\u001b[0;34m:\u001b[0m\u001b[0;34m\u001b[0m\u001b[0;34m\u001b[0m\u001b[0m\n\u001b[1;32m      4\u001b[0m     \u001b[0;31m# print()\u001b[0m\u001b[0;34m\u001b[0m\u001b[0;34m\u001b[0m\u001b[0;34m\u001b[0m\u001b[0m\n\u001b[0;32m----> 5\u001b[0;31m     \u001b[0mx\u001b[0m\u001b[0;34m,\u001b[0m\u001b[0my\u001b[0m\u001b[0;34m,\u001b[0m\u001b[0mxr\u001b[0m\u001b[0;34m,\u001b[0m\u001b[0myr\u001b[0m\u001b[0;34m,\u001b[0m\u001b[0mD\u001b[0m \u001b[0;34m=\u001b[0m \u001b[0mmap\u001b[0m\u001b[0;34m(\u001b[0m\u001b[0mint\u001b[0m\u001b[0;34m,\u001b[0m\u001b[0minput\u001b[0m\u001b[0;34m(\u001b[0m\u001b[0;34m)\u001b[0m\u001b[0;34m.\u001b[0m\u001b[0msplit\u001b[0m\u001b[0;34m(\u001b[0m\u001b[0;34m)\u001b[0m\u001b[0;34m)\u001b[0m \u001b[0;31m#D exact no of days to reach shore\u001b[0m\u001b[0;34m\u001b[0m\u001b[0;34m\u001b[0m\u001b[0m\n\u001b[0m\u001b[1;32m      6\u001b[0m     \u001b[0;32mtry\u001b[0m\u001b[0;34m:\u001b[0m\u001b[0;34m\u001b[0m\u001b[0;34m\u001b[0m\u001b[0m\n\u001b[1;32m      7\u001b[0m         \u001b[0mxrt\u001b[0m \u001b[0;34m=\u001b[0m \u001b[0mxr\u001b[0m\u001b[0;34m*\u001b[0m\u001b[0mD\u001b[0m   \u001b[0;31m#total units of food supplies\u001b[0m\u001b[0;34m\u001b[0m\u001b[0;34m\u001b[0m\u001b[0m\n",
      "\u001b[0;32m~/.local/lib/python3.6/site-packages/ipykernel/kernelbase.py\u001b[0m in \u001b[0;36mraw_input\u001b[0;34m(self, prompt)\u001b[0m\n\u001b[1;32m    861\u001b[0m             \u001b[0mself\u001b[0m\u001b[0;34m.\u001b[0m\u001b[0m_parent_ident\u001b[0m\u001b[0;34m,\u001b[0m\u001b[0;34m\u001b[0m\u001b[0;34m\u001b[0m\u001b[0m\n\u001b[1;32m    862\u001b[0m             \u001b[0mself\u001b[0m\u001b[0;34m.\u001b[0m\u001b[0m_parent_header\u001b[0m\u001b[0;34m,\u001b[0m\u001b[0;34m\u001b[0m\u001b[0;34m\u001b[0m\u001b[0m\n\u001b[0;32m--> 863\u001b[0;31m             \u001b[0mpassword\u001b[0m\u001b[0;34m=\u001b[0m\u001b[0;32mFalse\u001b[0m\u001b[0;34m,\u001b[0m\u001b[0;34m\u001b[0m\u001b[0;34m\u001b[0m\u001b[0m\n\u001b[0m\u001b[1;32m    864\u001b[0m         )\n\u001b[1;32m    865\u001b[0m \u001b[0;34m\u001b[0m\u001b[0m\n",
      "\u001b[0;32m~/.local/lib/python3.6/site-packages/ipykernel/kernelbase.py\u001b[0m in \u001b[0;36m_input_request\u001b[0;34m(self, prompt, ident, parent, password)\u001b[0m\n\u001b[1;32m    902\u001b[0m             \u001b[0;32mexcept\u001b[0m \u001b[0mKeyboardInterrupt\u001b[0m\u001b[0;34m:\u001b[0m\u001b[0;34m\u001b[0m\u001b[0;34m\u001b[0m\u001b[0m\n\u001b[1;32m    903\u001b[0m                 \u001b[0;31m# re-raise KeyboardInterrupt, to truncate traceback\u001b[0m\u001b[0;34m\u001b[0m\u001b[0;34m\u001b[0m\u001b[0;34m\u001b[0m\u001b[0m\n\u001b[0;32m--> 904\u001b[0;31m                 \u001b[0;32mraise\u001b[0m \u001b[0mKeyboardInterrupt\u001b[0m\u001b[0;34m(\u001b[0m\u001b[0;34m\"Interrupted by user\"\u001b[0m\u001b[0;34m)\u001b[0m \u001b[0;32mfrom\u001b[0m \u001b[0;32mNone\u001b[0m\u001b[0;34m\u001b[0m\u001b[0;34m\u001b[0m\u001b[0m\n\u001b[0m\u001b[1;32m    905\u001b[0m             \u001b[0;32mexcept\u001b[0m \u001b[0mException\u001b[0m \u001b[0;32mas\u001b[0m \u001b[0me\u001b[0m\u001b[0;34m:\u001b[0m\u001b[0;34m\u001b[0m\u001b[0;34m\u001b[0m\u001b[0m\n\u001b[1;32m    906\u001b[0m                 \u001b[0mself\u001b[0m\u001b[0;34m.\u001b[0m\u001b[0mlog\u001b[0m\u001b[0;34m.\u001b[0m\u001b[0mwarning\u001b[0m\u001b[0;34m(\u001b[0m\u001b[0;34m\"Invalid Message:\"\u001b[0m\u001b[0;34m,\u001b[0m \u001b[0mexc_info\u001b[0m\u001b[0;34m=\u001b[0m\u001b[0;32mTrue\u001b[0m\u001b[0;34m)\u001b[0m\u001b[0;34m\u001b[0m\u001b[0;34m\u001b[0m\u001b[0m\n",
      "\u001b[0;31mKeyboardInterrupt\u001b[0m: Interrupted by user"
     ]
    }
   ],
   "source": [
    "# cook your dish here\n",
    "t = int(input())\n",
    "for i in range(t):\n",
    "    # print()\n",
    "    x,y,xr,yr,D = map(int,input().split()) #D exact no of days to reach shore\n",
    "    try:\n",
    "        xrt = xr*D   #total units of food supplies\n",
    "        yrt = yr*D   #total units of water supplies\n",
    "        x_ = x / xrt #could be in decimal\n",
    "        y_ = y / yrt\n",
    "        if int(x_) >= int(D ) and int(y_)>= int(D):\n",
    "            print('YES')\n",
    "        elif x ==0 or y ==0:\n",
    "            if xr==0 and yr!=0:\n",
    "                yrt = yr*D\n",
    "                y_ = y/yrt\n",
    "                if int(y_)>=D: #a case where only water unit matters\n",
    "                    print('yes')\n",
    "                else:\n",
    "                    print('no')\n",
    "            elif yr==0 and xr!=0:\n",
    "                xrt = xr*D\n",
    "                x_ = x/xrt\n",
    "                if int(x_)>=D: #a case where only water unit matters\n",
    "                    print('yes')\n",
    "                else:\n",
    "                    print('no')\n",
    "            elif xr==0 and yr ==0: #case where we don't have any supply.neither do we need any\n",
    "                print('yes')\n",
    "            else:\n",
    "                print('no')\n",
    "        else:\n",
    "            print('NO')\n",
    "    except ZeroDivisionError: # 0/0 isn't considered as error\n",
    "        print('hey there')\n",
    "        if xrt == 0 and yrt == 0:\n",
    "            if x>=D  and y>= D:\n",
    "                print('yes')\n",
    "            else:\n",
    "                print('no')\n",
    "        elif xrt==0:\n",
    "            if x>=D and int(yrt) >=D:\n",
    "                print('yes')\n",
    "            else:\n",
    "                print('no')\n",
    "        elif yrt == 0:\n",
    "            if int(xrt)>=D and y>D:\n",
    "                print('yes')\n",
    "            else:\n",
    "                print('no')"
   ]
  },
  {
   "cell_type": "code",
   "execution_count": 9,
   "metadata": {},
   "outputs": [
    {
     "name": "stdin",
     "output_type": "stream",
     "text": [
      " 4 0 2 0 2\n"
     ]
    },
    {
     "name": "stdout",
     "output_type": "stream",
     "text": [
      "yes\n"
     ]
    }
   ],
   "source": [
    "x,y,xr,yr,D = map(int,input().split())\n",
    "xrt = xr* D  #total food requirements\n",
    "yrt = yr* D\n",
    "try:\n",
    "    x_ = x/xrt \n",
    "    y_ = y/yrt\n",
    "    if int(x_)>=1 and int(y_)>=1:\n",
    "        print('yes')\n",
    "    else:\n",
    "        print('no')\n",
    "except ZeroDivisionError:\n",
    "    if xrt == 0 and yrt!=0: #water requirement isn't zero\n",
    "        if y!=0:\n",
    "            if int(y_)>=1:\n",
    "                print('yes')\n",
    "            else:\n",
    "                print('no')\n",
    "        if y ==0:\n",
    "            print('no') #since he doesn't have any water but his water requirement isn't zero\n",
    "            \n",
    "    elif xrt!=0 and yrt ==0:\n",
    "        if x!=0:\n",
    "            if int(x_)>=1:\n",
    "                print('yes')\n",
    "            else:\n",
    "                print('no')\n",
    "        if x==0: #since he doesn't  have any food but his food requirements aren't zero\n",
    "            print('no')\n",
    "    elif xrt == 0 and yrt ==0: #since he has no food/water requirements\n",
    "        print('yes')"
   ]
  },
  {
   "cell_type": "code",
   "execution_count": 18,
   "metadata": {},
   "outputs": [
    {
     "name": "stdin",
     "output_type": "stream",
     "text": [
      " skjf\n"
     ]
    },
    {
     "name": "stdout",
     "output_type": "stream",
     "text": [
      "['s', 'k', 'j', 'f']\n"
     ]
    }
   ],
   "source": [
    "y = list(input())\n",
    "print(y)"
   ]
  },
  {
   "cell_type": "code",
   "execution_count": 20,
   "metadata": {},
   "outputs": [
    {
     "name": "stdin",
     "output_type": "stream",
     "text": [
      " 4 5\n",
      " 3 2\n",
      " FUFFP\n",
      " PFPFU\n",
      " UPFFU\n",
      " PPPFP\n"
     ]
    },
    {
     "name": "stdout",
     "output_type": "stream",
     "text": [
      "[1, 1, 0, 0]\n"
     ]
    }
   ],
   "source": [
    "t=int(input())\n",
    "for tst in range(t):\n",
    "    N,M = map(int,input().split())\n",
    "    X,Y = map(int,input().split())\n",
    "    L=[]\n",
    "    for i in range(N):\n",
    "        F=0\n",
    "        P=0\n",
    "        result = list(input())\n",
    "        for co in result:\n",
    "            if co=='F':\n",
    "                F+=1\n",
    "            elif co =='P':\n",
    "                P+=1\n",
    "        if F>=X:\n",
    "            L.append(1)\n",
    "        elif F>=X-1 and P>=Y:\n",
    "            L.append(1)\n",
    "        else:\n",
    "            L.append(0)\n",
    "    print(*L,sep='')"
   ]
  },
  {
   "cell_type": "code",
   "execution_count": 29,
   "metadata": {},
   "outputs": [
    {
     "name": "stdout",
     "output_type": "stream",
     "text": [
      "[1, 2, 3, 4, 5, 6]\n"
     ]
    }
   ],
   "source": [
    "L = list(range(1,7))\n",
    "print(L)"
   ]
  },
  {
   "cell_type": "code",
   "execution_count": 32,
   "metadata": {},
   "outputs": [
    {
     "name": "stdin",
     "output_type": "stream",
     "text": [
      " 6 3\n",
      " 2 4 1\n"
     ]
    },
    {
     "name": "stdout",
     "output_type": "stream",
     "text": [
      "3 6\n",
      "5\n"
     ]
    }
   ],
   "source": [
    "t=int(input())\n",
    "for j in range(t):\n",
    "    N,M = map(int,input().split())\n",
    "    m = list(map(int,input().split())) #gives a list of the jobs done\n",
    "    L = list(range(1,int(input())+1))\n",
    "    chef =[]\n",
    "    assistant=[]\n",
    "    i=0\n",
    "    for co in L:\n",
    "        if co in m:\n",
    "            continue\n",
    "        elif i%2==0:\n",
    "            chef.append(co)\n",
    "            i+=1\n",
    "        elif i%2 !=0:\n",
    "            assistant.append(co)\n",
    "            i+=1\n",
    "    print(*chef,sep=' ')\n",
    "    print(*assistant,sep= ' ')\n",
    "    "
   ]
  },
  {
   "cell_type": "code",
   "execution_count": 39,
   "metadata": {},
   "outputs": [
    {
     "name": "stdout",
     "output_type": "stream",
     "text": [
      "['Hello! ', 'Hello! ', 'Hello! ', 'Hello! ', 'Hello! ']\n"
     ]
    }
   ],
   "source": [
    "given_value ='Hello! '\n",
    "new_list=[]\n",
    "new_list.extend([given_value for i in range(5)])\n",
    "print(new_list)"
   ]
  },
  {
   "cell_type": "code",
   "execution_count": 10,
   "metadata": {},
   "outputs": [
    {
     "name": "stdout",
     "output_type": "stream",
     "text": [
      "['Hello!', 'Hello!', 'Hello!', 'Hello!', 'Hello!']\n",
      "['Hello!', 'Hello!', 'Hello!', 'Hello!', 'Hello!']\n"
     ]
    }
   ],
   "source": [
    "given_value ='Hello! '\n",
    "repeated_value = 5*given_value\n",
    "print(repeated_value.split(' ')[0:-1])\n",
    "print(5*given_value.split(' ')[0:-1])"
   ]
  },
  {
   "cell_type": "code",
   "execution_count": 13,
   "metadata": {},
   "outputs": [
    {
     "name": "stdout",
     "output_type": "stream",
     "text": [
      "J J J J J \n",
      "['J', 'J', 'J', 'J']\n"
     ]
    }
   ],
   "source": [
    "initial_letter = 'J '\n",
    "N=5\n",
    "initial_L = N*initial_letter\n",
    "final =  initial_L.split()[0:-1]\n",
    "print(initial_L)\n",
    "print(final)"
   ]
  },
  {
   "cell_type": "code",
   "execution_count": null,
   "metadata": {},
   "outputs": [],
   "source": [
    "t=int(input())\n",
    "for i in range(t):\n",
    "    G=int(input())\n",
    "    for i in range(G): #no of games\n",
    "        I,N,Q = map(int,input().split())\n",
    "        if I ==1: #i.e in beginning all are heads\n",
    "            initial_letter = 'H '\n",
    "#             initial_L = []\n",
    "            repeat=N*initial_letter\n",
    "            initial_L=repeat.split(' ')[0:-1]\n",
    "#             initial_L.extend(initial_letter for i in range(N))\n",
    "            if N%2!=0: #case where N is odd\n",
    "                for i in range(N):\n",
    "                    if i%2==0: #i.e even indexed letters\n",
    "                        initial_L[i] = 'T' #change their places\n",
    "                    else: #i.e odd indexed letters\n",
    "                        pass\n",
    "            else: #i.e N is even\n",
    "                for i in range(N):\n",
    "                    if i%2==0:\n",
    "                        pass\n",
    "                    else:\n",
    "                        initial_L[i]='T'\n",
    "            if Q ==1: #find no of heads in the modified list\n",
    "                result = initial_L.count('H')\n",
    "                print(result)\n",
    "            else:\n",
    "                result = initial_L.count('T')\n",
    "                print(result)\n",
    "        elif I==2: # in the beginning all are tail\n",
    "            initial_letter = 'T '\n",
    "#             initial_L =[]\n",
    "            repeat = N*initial_letter\n",
    "            initial_L=repeat.split(' ')[0:-1]\n",
    "#             initial_L.extend(initial_letter for i in range(N))\n",
    "            if N%2!=0:\n",
    "                for i in range(N):\n",
    "                    if i%2==0:\n",
    "                        initial_L='H'\n",
    "                    else:\n",
    "                        pass\n",
    "            else:  #case where N is even\n",
    "                for i in range(N):\n",
    "                    if i%2==0:\n",
    "                        pass\n",
    "                    else:\n",
    "                        initial_L[i]='H'\n",
    "            if Q==1:\n",
    "                result = initial_L.count('H')\n",
    "                print(result)\n",
    "            else:\n",
    "                result = initial_L.count('T')\n",
    "                print(result)   "
   ]
  },
  {
   "cell_type": "code",
   "execution_count": 41,
   "metadata": {},
   "outputs": [
    {
     "name": "stdout",
     "output_type": "stream",
     "text": [
      "2\n"
     ]
    }
   ],
   "source": [
    "import math          #the most awesome solution   #coinflip\n",
    "for _ in range(int(input())):\n",
    "    for g in range(int(input())):\n",
    "        i,n,k=map(int,input().split())\n",
    "        if i==1:\n",
    "            if k==1:  #after flipping,initial letter will be in minority\n",
    "                print(int(math.floor(n/2)))\n",
    "            else:\n",
    "                print(int(math.ceil(n/2)))\n",
    "        else:\n",
    "            if k==2: #it doens't matter if n is odd or even,for even n value of head and tail will be equal\n",
    "                print(int(math.floor(n/2)))\n",
    "            else:\n",
    "                print(int(math.ceil(n/2)))\n"
   ]
  },
  {
   "cell_type": "code",
   "execution_count": 15,
   "metadata": {},
   "outputs": [
    {
     "name": "stdout",
     "output_type": "stream",
     "text": [
      "8 9\n"
     ]
    }
   ],
   "source": [
    "import math\n",
    "i = 8.68\n",
    "o1=math.floor(i)\n",
    "o2 = math.ceil(i)\n",
    "print(o1,o2)"
   ]
  },
  {
   "cell_type": "code",
   "execution_count": 24,
   "metadata": {},
   "outputs": [
    {
     "name": "stdin",
     "output_type": "stream",
     "text": [
      " 1\n",
      " 3 1 2 2\n",
      " 3 4\n",
      " 2 2\n"
     ]
    },
    {
     "name": "stdout",
     "output_type": "stream",
     "text": [
      "lucky chef\n"
     ]
    }
   ],
   "source": [
    "t=int(input())\n",
    "for co in range(t):\n",
    "    X,Y,N,K= map(int,input().split())\n",
    "    req_pages = X-Y\n",
    "    chef = False\n",
    "    for i in range(N): #choices of notebooks\n",
    "        P,C=map(int,input().split())\n",
    "        if C<=K and P>=req_pages:#first check cost\n",
    "            print('lucky chef')\n",
    "            chef = True    \n",
    "            break\n",
    "    if chef == False:\n",
    "        print('unlucky chef')"
   ]
  },
  {
   "cell_type": "code",
   "execution_count": 26,
   "metadata": {},
   "outputs": [
    {
     "name": "stdin",
     "output_type": "stream",
     "text": [
      " 3\n",
      " 40 20 1\n"
     ]
    },
    {
     "name": "stdout",
     "output_type": "stream",
     "text": [
      "800\n"
     ]
    },
    {
     "name": "stdin",
     "output_type": "stream",
     "text": [
      " 35 120 2\n"
     ]
    },
    {
     "name": "stdout",
     "output_type": "stream",
     "text": [
      "2500\n"
     ]
    },
    {
     "name": "stdin",
     "output_type": "stream",
     "text": [
      " 40 115 3\n"
     ]
    },
    {
     "name": "stdout",
     "output_type": "stream",
     "text": [
      "2950\n"
     ]
    }
   ],
   "source": [
    "t= int(input())\n",
    "for co in range(t):\n",
    "    X,A,B = map(int,input().split())\n",
    "    solu_max = A + B*(100-X) #for 100ml\n",
    "    solu_total = solu_max*10\n",
    "    print(solu_total)\n",
    "   "
   ]
  },
  {
   "cell_type": "code",
   "execution_count": null,
   "metadata": {},
   "outputs": [],
   "source": [
    "# cook your dish here #1st code  t =0.73 sec\n",
    "t=int(input())\n",
    "for co in range(t):\n",
    "    N,x,k = map(int,input().split())\n",
    "    Ft=[]\n",
    "    Bt=[]\n",
    "    i = 0\n",
    "    j = N +1\n",
    "    while i<=N + 1 and j>=0:\n",
    "        Ft.append(i)\n",
    "        i = i+k\n",
    "        Bt.append(j)\n",
    "        j = j-k\n",
    "    if x in Ft or x in Bt:\n",
    "        print('yes')\n",
    "    else:\n",
    "        print('no')"
   ]
  },
  {
   "cell_type": "code",
   "execution_count": null,
   "metadata": {},
   "outputs": [],
   "source": [
    "# cook your dish here #1st code  t =0.73 sec\n",
    "#4th version without list\n",
    "t=int(input())\n",
    "for co in range(t):\n",
    "    N,x,k = map(int,input().split())\n",
    "    hole = False\n",
    "    i = 0\n",
    "    j = N +1\n",
    "    while i<=N + 1 and j>=0:\n",
    "        if i==x:\n",
    "            hole = True\n",
    "            break\n",
    "        elif j==x:\n",
    "            hole = True\n",
    "            break\n",
    "        i= i +k\n",
    "        j = j-k\n",
    "    if hole==True:\n",
    "        print('yes')\n",
    "    else:\n",
    "        print('no')"
   ]
  },
  {
   "cell_type": "code",
   "execution_count": null,
   "metadata": {},
   "outputs": [],
   "source": [
    "t=int(input())\n",
    "for co in range(t):\n",
    "    N,x,k = map(int,input().split())\n",
    "    hole = False\n",
    "    if x==0 or x==N+1:\n",
    "        print('yes')\n",
    "        break\n",
    "    elif N%2==0:\n",
    "        hole = False\n",
    "        i = 0\n",
    "        j = N +1\n",
    "        while i<=N + 1 and j>=0:\n",
    "            if i==x:\n",
    "                hole = True\n",
    "                print('yes')\n",
    "                break\n",
    "            i = i+k\n",
    "            elif j==x:\n",
    "                hole = True\n",
    "                print('yes')\n",
    "                break\n",
    "            j = j-k\n",
    "        if hole == False:\n",
    "            print('no')\n",
    "    elif N%2==0:\n",
    "        if x%k==0:\n",
    "            print('yes')\n",
    "        else:\n",
    "            print('no')"
   ]
  },
  {
   "cell_type": "code",
   "execution_count": 33,
   "metadata": {},
   "outputs": [
    {
     "name": "stdout",
     "output_type": "stream",
     "text": [
      "0b10\n",
      "0b11\n"
     ]
    }
   ],
   "source": [
    "print(bin(2))\n",
    "print(bin(3))"
   ]
  },
  {
   "cell_type": "code",
   "execution_count": 36,
   "metadata": {},
   "outputs": [
    {
     "name": "stdout",
     "output_type": "stream",
     "text": [
      "6\n"
     ]
    }
   ],
   "source": [
    "a = 2\n",
    "b = 3\n",
    "c = a+1^b+2 #3^5\n",
    "print(c)"
   ]
  },
  {
   "cell_type": "code",
   "execution_count": 49,
   "metadata": {},
   "outputs": [
    {
     "name": "stdout",
     "output_type": "stream",
     "text": [
      "1\n",
      "0\n"
     ]
    }
   ],
   "source": [
    "a = 2^3\n",
    "print(a)\n",
    "v = 0%(10**9 + 7)\n",
    "print(v)"
   ]
  },
  {
   "cell_type": "code",
   "execution_count": 4,
   "metadata": {},
   "outputs": [
    {
     "name": "stdin",
     "output_type": "stream",
     "text": [
      " 1\n",
      " 100000\n"
     ]
    },
    {
     "ename": "KeyboardInterrupt",
     "evalue": "",
     "output_type": "error",
     "traceback": [
      "\u001b[0;31m---------------------------------------------------------------------------\u001b[0m",
      "\u001b[0;31mKeyboardInterrupt\u001b[0m                         Traceback (most recent call last)",
      "\u001b[0;32m<ipython-input-4-17db061512f1>\u001b[0m in \u001b[0;36m<module>\u001b[0;34m\u001b[0m\n\u001b[1;32m      7\u001b[0m \u001b[0;31m#         if x ^ (x+1) == (x+2) ^ (x+3):\u001b[0m\u001b[0;34m\u001b[0m\u001b[0;34m\u001b[0m\u001b[0;34m\u001b[0m\u001b[0m\n\u001b[1;32m      8\u001b[0m \u001b[0;31m#             count+=1\u001b[0m\u001b[0;34m\u001b[0m\u001b[0;34m\u001b[0m\u001b[0;34m\u001b[0m\u001b[0m\n\u001b[0;32m----> 9\u001b[0;31m     \u001b[0;32mwhile\u001b[0m \u001b[0mx\u001b[0m\u001b[0;34m<=\u001b[0m\u001b[0;36m2\u001b[0m\u001b[0;34m**\u001b[0m\u001b[0mN\u001b[0m\u001b[0;34m:\u001b[0m\u001b[0;34m\u001b[0m\u001b[0;34m\u001b[0m\u001b[0m\n\u001b[0m\u001b[1;32m     10\u001b[0m         \u001b[0;32mif\u001b[0m \u001b[0mx\u001b[0m \u001b[0;34m^\u001b[0m \u001b[0;34m(\u001b[0m\u001b[0mx\u001b[0m\u001b[0;34m+\u001b[0m\u001b[0;36m1\u001b[0m\u001b[0;34m)\u001b[0m \u001b[0;34m==\u001b[0m \u001b[0;34m(\u001b[0m\u001b[0mx\u001b[0m\u001b[0;34m+\u001b[0m\u001b[0;36m2\u001b[0m\u001b[0;34m)\u001b[0m \u001b[0;34m^\u001b[0m \u001b[0;34m(\u001b[0m\u001b[0mx\u001b[0m\u001b[0;34m+\u001b[0m\u001b[0;36m3\u001b[0m\u001b[0;34m)\u001b[0m\u001b[0;34m:\u001b[0m\u001b[0;34m\u001b[0m\u001b[0;34m\u001b[0m\u001b[0m\n\u001b[1;32m     11\u001b[0m             \u001b[0mcount\u001b[0m\u001b[0;34m+=\u001b[0m\u001b[0;36m1\u001b[0m\u001b[0;34m\u001b[0m\u001b[0;34m\u001b[0m\u001b[0m\n",
      "\u001b[0;31mKeyboardInterrupt\u001b[0m: "
     ]
    }
   ],
   "source": [
    "t= int(input())\n",
    "for co in range(t):\n",
    "    N = int(input())\n",
    "    count = 0\n",
    "    x = 0\n",
    "#     for x in range(0,2**N):\n",
    "#         if x ^ (x+1) == (x+2) ^ (x+3):\n",
    "#             count+=1\n",
    "    while x<=2**N:\n",
    "        if x ^ (x+1) == (x+2) ^ (x+3):\n",
    "            count+=1\n",
    "        x+=1\n",
    "    print( count % (10**9 + 7))\n",
    "    "
   ]
  },
  {
   "cell_type": "code",
   "execution_count": 1,
   "metadata": {},
   "outputs": [
    {
     "name": "stdout",
     "output_type": "stream",
     "text": [
      "no\n",
      "4\n"
     ]
    }
   ],
   "source": [
    "x = 5\n",
    "if x ^ (x+1) == (x+2) ^ (x+3):\n",
    "    print('yes')\n",
    "else:\n",
    "    print('no')\n",
    "print(4%(10**9 +7))"
   ]
  },
  {
   "cell_type": "code",
   "execution_count": 2,
   "metadata": {},
   "outputs": [
    {
     "name": "stdin",
     "output_type": "stream",
     "text": [
      " 1\n",
      " 10000\n"
     ]
    },
    {
     "ename": "RecursionError",
     "evalue": "maximum recursion depth exceeded in comparison",
     "output_type": "error",
     "traceback": [
      "\u001b[0;31m---------------------------------------------------------------------------\u001b[0m",
      "\u001b[0;31mRecursionError\u001b[0m                            Traceback (most recent call last)",
      "\u001b[0;32m<ipython-input-2-30723384e830>\u001b[0m in \u001b[0;36m<module>\u001b[0;34m\u001b[0m\n\u001b[1;32m     12\u001b[0m     \u001b[0mN\u001b[0m \u001b[0;34m=\u001b[0m \u001b[0mint\u001b[0m\u001b[0;34m(\u001b[0m\u001b[0minput\u001b[0m\u001b[0;34m(\u001b[0m\u001b[0;34m)\u001b[0m\u001b[0;34m)\u001b[0m\u001b[0;34m\u001b[0m\u001b[0;34m\u001b[0m\u001b[0m\n\u001b[1;32m     13\u001b[0m     \u001b[0mrang\u001b[0m \u001b[0;34m=\u001b[0m \u001b[0;36m2\u001b[0m\u001b[0;34m**\u001b[0m\u001b[0mN\u001b[0m \u001b[0;34m-\u001b[0m \u001b[0;36m1\u001b[0m\u001b[0;34m\u001b[0m\u001b[0;34m\u001b[0m\u001b[0m\n\u001b[0;32m---> 14\u001b[0;31m     \u001b[0mresult\u001b[0m \u001b[0;34m=\u001b[0m \u001b[0mrecursive\u001b[0m\u001b[0;34m(\u001b[0m\u001b[0mrang\u001b[0m\u001b[0;34m,\u001b[0m\u001b[0;36m0\u001b[0m\u001b[0;34m,\u001b[0m\u001b[0;36m0\u001b[0m\u001b[0;34m)\u001b[0m\u001b[0;34m\u001b[0m\u001b[0;34m\u001b[0m\u001b[0m\n\u001b[0m\u001b[1;32m     15\u001b[0m     \u001b[0mprint\u001b[0m\u001b[0;34m(\u001b[0m\u001b[0mresult\u001b[0m\u001b[0;34m%\u001b[0m\u001b[0;34m(\u001b[0m\u001b[0;36m10\u001b[0m\u001b[0;34m**\u001b[0m\u001b[0;36m9\u001b[0m \u001b[0;34m+\u001b[0m\u001b[0;36m7\u001b[0m\u001b[0;34m)\u001b[0m\u001b[0;34m)\u001b[0m\u001b[0;34m\u001b[0m\u001b[0;34m\u001b[0m\u001b[0m\n\u001b[1;32m     16\u001b[0m \u001b[0;34m\u001b[0m\u001b[0m\n",
      "\u001b[0;32m<ipython-input-2-30723384e830>\u001b[0m in \u001b[0;36mrecursive\u001b[0;34m(rang, x, count)\u001b[0m\n\u001b[1;32m      4\u001b[0m     \u001b[0;32melif\u001b[0m \u001b[0mx\u001b[0m \u001b[0;34m^\u001b[0m \u001b[0;34m(\u001b[0m\u001b[0mx\u001b[0m\u001b[0;34m+\u001b[0m\u001b[0;36m1\u001b[0m\u001b[0;34m)\u001b[0m \u001b[0;34m==\u001b[0m \u001b[0;34m(\u001b[0m\u001b[0mx\u001b[0m\u001b[0;34m+\u001b[0m\u001b[0;36m2\u001b[0m\u001b[0;34m)\u001b[0m \u001b[0;34m^\u001b[0m \u001b[0;34m(\u001b[0m\u001b[0mx\u001b[0m\u001b[0;34m+\u001b[0m\u001b[0;36m3\u001b[0m\u001b[0;34m)\u001b[0m\u001b[0;34m:\u001b[0m\u001b[0;34m\u001b[0m\u001b[0;34m\u001b[0m\u001b[0m\n\u001b[1;32m      5\u001b[0m         \u001b[0mcount\u001b[0m\u001b[0;34m+=\u001b[0m\u001b[0;36m1\u001b[0m\u001b[0;34m\u001b[0m\u001b[0;34m\u001b[0m\u001b[0m\n\u001b[0;32m----> 6\u001b[0;31m         \u001b[0;32mreturn\u001b[0m \u001b[0mrecursive\u001b[0m\u001b[0;34m(\u001b[0m\u001b[0mrang\u001b[0m\u001b[0;34m,\u001b[0m\u001b[0mx\u001b[0m\u001b[0;34m+\u001b[0m\u001b[0;36m1\u001b[0m\u001b[0;34m,\u001b[0m\u001b[0mcount\u001b[0m\u001b[0;34m)\u001b[0m\u001b[0;34m\u001b[0m\u001b[0;34m\u001b[0m\u001b[0m\n\u001b[0m\u001b[1;32m      7\u001b[0m     \u001b[0;32melse\u001b[0m\u001b[0;34m:\u001b[0m\u001b[0;34m\u001b[0m\u001b[0;34m\u001b[0m\u001b[0m\n\u001b[1;32m      8\u001b[0m         \u001b[0;32mreturn\u001b[0m \u001b[0mrecursive\u001b[0m\u001b[0;34m(\u001b[0m\u001b[0mrang\u001b[0m\u001b[0;34m,\u001b[0m\u001b[0mx\u001b[0m\u001b[0;34m+\u001b[0m\u001b[0;36m1\u001b[0m\u001b[0;34m,\u001b[0m\u001b[0mcount\u001b[0m\u001b[0;34m)\u001b[0m \u001b[0;31m#to traverse\u001b[0m\u001b[0;34m\u001b[0m\u001b[0;34m\u001b[0m\u001b[0m\n",
      "\u001b[0;32m<ipython-input-2-30723384e830>\u001b[0m in \u001b[0;36mrecursive\u001b[0;34m(rang, x, count)\u001b[0m\n\u001b[1;32m      6\u001b[0m         \u001b[0;32mreturn\u001b[0m \u001b[0mrecursive\u001b[0m\u001b[0;34m(\u001b[0m\u001b[0mrang\u001b[0m\u001b[0;34m,\u001b[0m\u001b[0mx\u001b[0m\u001b[0;34m+\u001b[0m\u001b[0;36m1\u001b[0m\u001b[0;34m,\u001b[0m\u001b[0mcount\u001b[0m\u001b[0;34m)\u001b[0m\u001b[0;34m\u001b[0m\u001b[0;34m\u001b[0m\u001b[0m\n\u001b[1;32m      7\u001b[0m     \u001b[0;32melse\u001b[0m\u001b[0;34m:\u001b[0m\u001b[0;34m\u001b[0m\u001b[0;34m\u001b[0m\u001b[0m\n\u001b[0;32m----> 8\u001b[0;31m         \u001b[0;32mreturn\u001b[0m \u001b[0mrecursive\u001b[0m\u001b[0;34m(\u001b[0m\u001b[0mrang\u001b[0m\u001b[0;34m,\u001b[0m\u001b[0mx\u001b[0m\u001b[0;34m+\u001b[0m\u001b[0;36m1\u001b[0m\u001b[0;34m,\u001b[0m\u001b[0mcount\u001b[0m\u001b[0;34m)\u001b[0m \u001b[0;31m#to traverse\u001b[0m\u001b[0;34m\u001b[0m\u001b[0;34m\u001b[0m\u001b[0m\n\u001b[0m\u001b[1;32m      9\u001b[0m \u001b[0;34m\u001b[0m\u001b[0m\n\u001b[1;32m     10\u001b[0m \u001b[0mt\u001b[0m \u001b[0;34m=\u001b[0m \u001b[0mint\u001b[0m\u001b[0;34m(\u001b[0m\u001b[0minput\u001b[0m\u001b[0;34m(\u001b[0m\u001b[0;34m)\u001b[0m\u001b[0;34m)\u001b[0m\u001b[0;34m\u001b[0m\u001b[0;34m\u001b[0m\u001b[0m\n",
      "... last 2 frames repeated, from the frame below ...\n",
      "\u001b[0;32m<ipython-input-2-30723384e830>\u001b[0m in \u001b[0;36mrecursive\u001b[0;34m(rang, x, count)\u001b[0m\n\u001b[1;32m      4\u001b[0m     \u001b[0;32melif\u001b[0m \u001b[0mx\u001b[0m \u001b[0;34m^\u001b[0m \u001b[0;34m(\u001b[0m\u001b[0mx\u001b[0m\u001b[0;34m+\u001b[0m\u001b[0;36m1\u001b[0m\u001b[0;34m)\u001b[0m \u001b[0;34m==\u001b[0m \u001b[0;34m(\u001b[0m\u001b[0mx\u001b[0m\u001b[0;34m+\u001b[0m\u001b[0;36m2\u001b[0m\u001b[0;34m)\u001b[0m \u001b[0;34m^\u001b[0m \u001b[0;34m(\u001b[0m\u001b[0mx\u001b[0m\u001b[0;34m+\u001b[0m\u001b[0;36m3\u001b[0m\u001b[0;34m)\u001b[0m\u001b[0;34m:\u001b[0m\u001b[0;34m\u001b[0m\u001b[0;34m\u001b[0m\u001b[0m\n\u001b[1;32m      5\u001b[0m         \u001b[0mcount\u001b[0m\u001b[0;34m+=\u001b[0m\u001b[0;36m1\u001b[0m\u001b[0;34m\u001b[0m\u001b[0;34m\u001b[0m\u001b[0m\n\u001b[0;32m----> 6\u001b[0;31m         \u001b[0;32mreturn\u001b[0m \u001b[0mrecursive\u001b[0m\u001b[0;34m(\u001b[0m\u001b[0mrang\u001b[0m\u001b[0;34m,\u001b[0m\u001b[0mx\u001b[0m\u001b[0;34m+\u001b[0m\u001b[0;36m1\u001b[0m\u001b[0;34m,\u001b[0m\u001b[0mcount\u001b[0m\u001b[0;34m)\u001b[0m\u001b[0;34m\u001b[0m\u001b[0;34m\u001b[0m\u001b[0m\n\u001b[0m\u001b[1;32m      7\u001b[0m     \u001b[0;32melse\u001b[0m\u001b[0;34m:\u001b[0m\u001b[0;34m\u001b[0m\u001b[0;34m\u001b[0m\u001b[0m\n\u001b[1;32m      8\u001b[0m         \u001b[0;32mreturn\u001b[0m \u001b[0mrecursive\u001b[0m\u001b[0;34m(\u001b[0m\u001b[0mrang\u001b[0m\u001b[0;34m,\u001b[0m\u001b[0mx\u001b[0m\u001b[0;34m+\u001b[0m\u001b[0;36m1\u001b[0m\u001b[0;34m,\u001b[0m\u001b[0mcount\u001b[0m\u001b[0;34m)\u001b[0m \u001b[0;31m#to traverse\u001b[0m\u001b[0;34m\u001b[0m\u001b[0;34m\u001b[0m\u001b[0m\n",
      "\u001b[0;31mRecursionError\u001b[0m: maximum recursion depth exceeded in comparison"
     ]
    }
   ],
   "source": [
    "def recursive(rang,x,count):\n",
    "    if x == 2**N-1:\n",
    "        return count\n",
    "    elif x ^ (x+1) == (x+2) ^ (x+3):\n",
    "        count+=1\n",
    "        return recursive(rang,x+1,count)\n",
    "    else:\n",
    "        return recursive(rang,x+1,count) #to traverse\n",
    "\n",
    "t = int(input())\n",
    "for co in range(t):\n",
    "    N = int(input())\n",
    "    rang = 2**N - 1\n",
    "    result = recursive(rang,0,0)\n",
    "    print(result%(10**9 +7))\n",
    "    "
   ]
  },
  {
   "cell_type": "code",
   "execution_count": 3,
   "metadata": {},
   "outputs": [
    {
     "ename": "SyntaxError",
     "evalue": "invalid syntax (<ipython-input-3-4bac374519e6>, line 7)",
     "output_type": "error",
     "traceback": [
      "\u001b[0;36m  File \u001b[0;32m\"<ipython-input-3-4bac374519e6>\"\u001b[0;36m, line \u001b[0;32m7\u001b[0m\n\u001b[0;31m    for co in K'[i]':\u001b[0m\n\u001b[0m                   ^\u001b[0m\n\u001b[0;31mSyntaxError\u001b[0m\u001b[0;31m:\u001b[0m invalid syntax\n"
     ]
    }
   ],
   "source": [
    "L =[1,1,1,6]\n",
    "if L[0]==L[1]==L[2]:\n",
    "    print('yes') \n",
    "K1=[0,8,3]\n",
    "K2 = [3]\n",
    "for i in range(1,3):\n",
    "    for co in K'[i]':\n",
    "        print(co)"
   ]
  },
  {
   "cell_type": "code",
   "execution_count": null,
   "metadata": {},
   "outputs": [],
   "source": [
    "L1=[X,O,X]\n",
    "L2=[O,O,O]\n",
    "L3=[X,_,X]\n",
    "\n",
    "index = 0\n",
    "for i in L1:\n",
    "    if i==L2[index]==L3[index]: #column case\n",
    "        print(1) \n",
    "    index+=1\n",
    "for i in range(3):\n",
    "    if L[i][]"
   ]
  },
  {
   "cell_type": "code",
   "execution_count": 15,
   "metadata": {},
   "outputs": [
    {
     "name": "stdout",
     "output_type": "stream",
     "text": [
      "2\n",
      "['(', 'a', '+', '(', 'b', '*', 'c', ')', ')']\n"
     ]
    },
    {
     "ename": "NameError",
     "evalue": "name 'A' is not defined",
     "output_type": "error",
     "traceback": [
      "\u001b[0;31m---------------------------------------------------------------------------\u001b[0m",
      "\u001b[0;31mNameError\u001b[0m                                 Traceback (most recent call last)",
      "\u001b[0;32m<ipython-input-15-ae3809c62f37>\u001b[0m in \u001b[0;36m<module>\u001b[0;34m\u001b[0m\n\u001b[1;32m      6\u001b[0m \u001b[0mprint\u001b[0m\u001b[0;34m(\u001b[0m\u001b[0mresu\u001b[0m\u001b[0;34m)\u001b[0m\u001b[0;34m\u001b[0m\u001b[0;34m\u001b[0m\u001b[0m\n\u001b[1;32m      7\u001b[0m \u001b[0mresu\u001b[0m\u001b[0;34m[\u001b[0m\u001b[0;36m3\u001b[0m\u001b[0;34m:\u001b[0m\u001b[0;36m8\u001b[0m\u001b[0;34m]\u001b[0m \u001b[0;34m=\u001b[0m \u001b[0;34m'A'\u001b[0m\u001b[0;34m\u001b[0m\u001b[0;34m\u001b[0m\u001b[0m\n\u001b[0;32m----> 8\u001b[0;31m \u001b[0mprint\u001b[0m\u001b[0;34m(\u001b[0m\u001b[0mA\u001b[0m\u001b[0;34m)\u001b[0m\u001b[0;34m\u001b[0m\u001b[0;34m\u001b[0m\u001b[0m\n\u001b[0m\u001b[1;32m      9\u001b[0m \u001b[0mprint\u001b[0m\u001b[0;34m(\u001b[0m\u001b[0mresu\u001b[0m\u001b[0;34m)\u001b[0m \u001b[0;31m#replace the entire bracket and within its substance with a single letter\u001b[0m\u001b[0;34m\u001b[0m\u001b[0;34m\u001b[0m\u001b[0m\n",
      "\u001b[0;31mNameError\u001b[0m: name 'A' is not defined"
     ]
    }
   ],
   "source": [
    "val = '(a+(b*c))'\n",
    "out = val.count('(')\n",
    "print(out)\n",
    "val[2]\n",
    "resu= list(val)\n",
    "print(resu)\n",
    "resu[3:8] = 'A'\n",
    "print(resu) #replace the entire bracket and within its substance with a single letter"
   ]
  },
  {
   "cell_type": "code",
   "execution_count": 2,
   "metadata": {},
   "outputs": [
    {
     "name": "stdin",
     "output_type": "stream",
     "text": [
      " 5 3 2\n"
     ]
    },
    {
     "name": "stdout",
     "output_type": "stream",
     "text": [
      "no\n"
     ]
    }
   ],
   "source": [
    "#TLE error 0.59 seconds....more by 0.09  secpmds # lowest so far\n",
    "N,x,k = map(int,input().split()) \n",
    "if x%k==0:\n",
    "    print('yes')\n",
    "else:\n",
    "    hole = False\n",
    "    j = N +1\n",
    "    while j>=0:\n",
    "        if j==x:\n",
    "            hole = True\n",
    "            print('yes')\n",
    "            break\n",
    "        j-=k\n",
    "    if hole==False:\n",
    "        print('no')"
   ]
  },
  {
   "cell_type": "code",
   "execution_count": null,
   "metadata": {},
   "outputs": [],
   "source": [
    "#TLE error 0.59 seconds....more by 0.09  secpmds # lowest so far\n",
    "N,x,k = map(int,input().split()) \n",
    "if x%k==0:\n",
    "    print('yes')\n",
    "else:\n",
    "    hole = False\n",
    "#     j = N +1\n",
    "#     while j>=0:\n",
    "#         if j==x:\n",
    "#             hole = True\n",
    "#             print('yes')\n",
    "#             break\n",
    "#         j-=k\n",
    "    if (N+1 - x) % k ==0:\n",
    "        hole = True\n",
    "    if hole==False:\n",
    "        print('no')\n",
    "    else:\n",
    "        print('yes')"
   ]
  },
  {
   "cell_type": "code",
   "execution_count": 3,
   "metadata": {},
   "outputs": [
    {
     "name": "stdout",
     "output_type": "stream",
     "text": [
      "0\n"
     ]
    }
   ],
   "source": [
    "a  = 4%2\n",
    "print(a)"
   ]
  },
  {
   "cell_type": "code",
   "execution_count": null,
   "metadata": {},
   "outputs": [],
   "source": [
    "#partially correct time = 0.82sec\n",
    "t = int(input())\n",
    "for co in range(t):\n",
    "    N,M = map(int,input().split())\n",
    "    b = N-1\n",
    "    count = 0\n",
    "    for a in range(1,N):\n",
    "        for b in range(a+1,N +1):\n",
    "                if (M%a) % b ==(M%b)% a:\n",
    "                    count +=1\n",
    "    print(count)"
   ]
  },
  {
   "cell_type": "code",
   "execution_count": 5,
   "metadata": {},
   "outputs": [
    {
     "name": "stdin",
     "output_type": "stream",
     "text": [
      " 3 5\n"
     ]
    },
    {
     "name": "stdout",
     "output_type": "stream",
     "text": [
      "2\n"
     ]
    }
   ],
   "source": [
    "def function(M,N,a,b,count): #too tired to name anything\n",
    "    if a ==N-1 and b == N:\n",
    "        if (M%a) % b ==(M%b)% a:\n",
    "            count+=1\n",
    "        return count\n",
    "    elif b==N and a!=N-1:  #case where value of a changes\n",
    "        if (M%a) % b ==(M%b)% a:\n",
    "            count+=1\n",
    "        b = a+1\n",
    "        return function(M,N,a+1,b+1,count)\n",
    "    else:\n",
    "        if (M%a) % b ==(M%b)% a:\n",
    "            count+=1\n",
    "        return function(M,N,a,b+1,count)\n",
    "\n",
    "N,M = map(int, input().split())\n",
    "\n",
    "count =0\n",
    "value=function(M,N,1,2,0)\n",
    "print(value)"
   ]
  },
  {
   "cell_type": "code",
   "execution_count": 6,
   "metadata": {},
   "outputs": [
    {
     "name": "stdout",
     "output_type": "stream",
     "text": [
      "2\n"
     ]
    }
   ],
   "source": [
    "#partially correct time = 1.10 sec\n",
    "t = int(input())\n",
    "for co in range(t):\n",
    "    N,M = map(int,input().split())\n",
    "    count = 0\n",
    "    for a in range(1,N):\n",
    "        b = a+1\n",
    "        while b >a and b<=N:\n",
    "            if (M%a) % b ==(M%b)% a:\n",
    "                count+=1\n",
    "            b+=1\n",
    "    print(count)"
   ]
  },
  {
   "cell_type": "code",
   "execution_count": 7,
   "metadata": {},
   "outputs": [
    {
     "name": "stdin",
     "output_type": "stream",
     "text": [
      " 100000 100000\n"
     ]
    },
    {
     "name": "stdout",
     "output_type": "stream",
     "text": [
      "310598\n"
     ]
    }
   ],
   "source": [
    "N,M = map(int,input().split())\n",
    "count = 0\n",
    "for a in range(1,N):\n",
    "    for b in range(a+1,N+1):\n",
    "        if M%a ==0 and M%b ==0:\n",
    "            count+=1\n",
    "            continue\n",
    "        elif M%a==0 and M%b!=0:\n",
    "            if (M - int(M/b)*b) % a ==0:\n",
    "                count+=1\n",
    "            continue\n",
    "        elif M%b==0 and M%a!=0:\n",
    "            if (M - int(M/a)*a) % b ==0:\n",
    "                count+=1\n",
    "                continue\n",
    "print(count)\n",
    "#for N=M = 10**5 count is 310598                    "
   ]
  },
  {
   "cell_type": "code",
   "execution_count": 9,
   "metadata": {},
   "outputs": [
    {
     "name": "stdout",
     "output_type": "stream",
     "text": [
      "32\n"
     ]
    }
   ],
   "source": [
    "v = 2 + (5+1)*(2+3) # 2+ (6x5) = 2+30\n",
    "print(v)"
   ]
  },
  {
   "cell_type": "code",
   "execution_count": 3,
   "metadata": {},
   "outputs": [
    {
     "name": "stdin",
     "output_type": "stream",
     "text": [
      " 3\n"
     ]
    },
    {
     "name": "stdout",
     "output_type": "stream",
     "text": [
      "18\n"
     ]
    }
   ],
   "source": [
    "#partially correct  time = 0.68 sec meaning any loop is always faster than recursion\n",
    "k = int(input())\n",
    "def gcd(x,y):  #best \n",
    "    while(y):\n",
    "        x, y = y, x % y     \n",
    "    return x\n",
    "\n",
    "value = 0\n",
    "for i in range(1,2*k+1):\n",
    "    output = gcd(k+(i*i), k + (i+1)*(i+1))\n",
    "    value +=output\n",
    "print(value)"
   ]
  },
  {
   "cell_type": "code",
   "execution_count": 4,
   "metadata": {},
   "outputs": [
    {
     "name": "stdin",
     "output_type": "stream",
     "text": [
      " 3\n",
      " 1\n"
     ]
    },
    {
     "name": "stdout",
     "output_type": "stream",
     "text": [
      "6\n"
     ]
    },
    {
     "name": "stdin",
     "output_type": "stream",
     "text": [
      " 3\n"
     ]
    },
    {
     "name": "stdout",
     "output_type": "stream",
     "text": [
      "22\n"
     ]
    },
    {
     "name": "stdin",
     "output_type": "stream",
     "text": [
      " 2\n"
     ]
    },
    {
     "name": "stdout",
     "output_type": "stream",
     "text": [
      "14\n"
     ]
    }
   ],
   "source": [
    "L = [] \n",
    "def gcd(x,y):  #best \n",
    "    while(y):\n",
    "        x, y = y, x % y     \n",
    "    return x\n",
    "t = int(input())\n",
    "for co in range(t):\n",
    "    k = int(input())\n",
    "    value = 0\n",
    "    if len(L)==0: #case of 1st iteration\n",
    "        L.append(k)\n",
    "        for i in range(1,2*k+1):\n",
    "            output = gcd(k+(i*i), k + (i+1)*(i+1))\n",
    "            value +=output\n",
    "        L.append(value)  #now L is like: L = (k,sum)\n",
    "        print(value)\n",
    "        continue\n",
    "    elif k>L[0]:  #case to reduce the number of repeated iterations \n",
    "        for i in range(2*L[0]+1,2*k+1): #only do the remaining iterations\n",
    "            output = gcd(k+(i*i), k + (i+1)*(i+1))\n",
    "            value +=output\n",
    "        v_ini = L.pop()\n",
    "        L.pop()\n",
    "        L.append(k)\n",
    "        L.append(value)\n",
    "        print(value + v_ini)\n",
    "        continue\n",
    "    else: #current k is smaller than previous\n",
    "        #don't make any changes in L...donsn't make any sense \n",
    "        for i in range(1,2*k+1):\n",
    "            output = gcd(k+(i*i), k + (i+1)*(i+1))\n",
    "            value +=output \n",
    "        print(value)\n",
    "\n",
    "        "
   ]
  },
  {
   "cell_type": "code",
   "execution_count": 1,
   "metadata": {},
   "outputs": [
    {
     "name": "stdout",
     "output_type": "stream",
     "text": [
      "1 0\n",
      "2 1\n",
      "3 1\n",
      "4 2\n",
      "5 2\n",
      "6 3\n"
     ]
    }
   ],
   "source": [
    "L =[0,1,1,2,2,3]\n",
    "for i,x in enumerate(L,1):\n",
    "    print(i,x) #i=data and x is the data that indexed leaf is attached to"
   ]
  },
  {
   "cell_type": "code",
   "execution_count": 24,
   "metadata": {},
   "outputs": [
    {
     "name": "stdout",
     "output_type": "stream",
     "text": [
      "[1, 2, 3, 4, 5, 6, 7]"
     ]
    }
   ],
   "source": [
    "class Tree:\n",
    "    def __init__(self,data):\n",
    "        self.data = data\n",
    "        self.left = None\n",
    "        self.right = None\n",
    "# class Solution():\n",
    "    def add_child(self,data,connection):\n",
    "        if root == None:\n",
    "            return Tree(data)\n",
    "        if self.connection.left:\n",
    "            self.connection.right = Tree(data)\n",
    "        else:\n",
    "            self.connection.left = Tree(data)\n",
    "        return root\n",
    "    def in_order_traversal(self,elements):\n",
    "#         elements =[]\n",
    "        if self.left:\n",
    "            elements +=self.left.in_order_traversal()\n",
    "        elements.append(self.data)\n",
    "        if self.right:\n",
    "            elements +=self.right.in_order_traversal()\n",
    "        return elements\n",
    "        \n",
    "L =[0,1,1,2,2,3,4]\n",
    "ppl_tree=Tree(L)\n",
    "root = None\n",
    "elements =[]\n",
    "for i,x in enumerate(L,1):\n",
    "    ppl_tree = ppl_tree.add_child(i,x)\n",
    "    order = ppl_tree.in_order_traversal(elements)\n",
    "print(order,end = '')"
   ]
  },
  {
   "cell_type": "code",
   "execution_count": 32,
   "metadata": {},
   "outputs": [
    {
     "ename": "UnboundLocalError",
     "evalue": "local variable 'root' referenced before assignment",
     "output_type": "error",
     "traceback": [
      "\u001b[0;31m---------------------------------------------------------------------------\u001b[0m",
      "\u001b[0;31mUnboundLocalError\u001b[0m                         Traceback (most recent call last)",
      "\u001b[0;32m<ipython-input-32-caceeddc5aa0>\u001b[0m in \u001b[0;36m<module>\u001b[0;34m\u001b[0m\n\u001b[1;32m     36\u001b[0m \u001b[0mroot\u001b[0m \u001b[0;34m=\u001b[0m \u001b[0;32mNone\u001b[0m\u001b[0;34m\u001b[0m\u001b[0;34m\u001b[0m\u001b[0m\n\u001b[1;32m     37\u001b[0m \u001b[0;32mfor\u001b[0m \u001b[0mi\u001b[0m\u001b[0;34m,\u001b[0m\u001b[0md\u001b[0m \u001b[0;32min\u001b[0m \u001b[0menumerate\u001b[0m\u001b[0;34m(\u001b[0m\u001b[0mL\u001b[0m\u001b[0;34m)\u001b[0m\u001b[0;34m:\u001b[0m\u001b[0;34m\u001b[0m\u001b[0;34m\u001b[0m\u001b[0m\n\u001b[0;32m---> 38\u001b[0;31m     \u001b[0mfinal\u001b[0m \u001b[0;34m=\u001b[0m \u001b[0mbuild_tree\u001b[0m\u001b[0;34m(\u001b[0m\u001b[0mi\u001b[0m\u001b[0;34m,\u001b[0m\u001b[0md\u001b[0m\u001b[0;34m)\u001b[0m\u001b[0;34m\u001b[0m\u001b[0;34m\u001b[0m\u001b[0m\n\u001b[0m\u001b[1;32m     39\u001b[0m \u001b[0morder\u001b[0m \u001b[0;34m=\u001b[0m \u001b[0mfinal\u001b[0m\u001b[0;34m.\u001b[0m\u001b[0min_order_traversal\u001b[0m\u001b[0;34m(\u001b[0m\u001b[0;34m)\u001b[0m\u001b[0;34m\u001b[0m\u001b[0;34m\u001b[0m\u001b[0m\n\u001b[1;32m     40\u001b[0m \u001b[0mprint\u001b[0m\u001b[0;34m(\u001b[0m\u001b[0morder\u001b[0m\u001b[0;34m)\u001b[0m\u001b[0;34m\u001b[0m\u001b[0;34m\u001b[0m\u001b[0m\n",
      "\u001b[0;32m<ipython-input-32-caceeddc5aa0>\u001b[0m in \u001b[0;36mbuild_tree\u001b[0;34m(data, connection)\u001b[0m\n\u001b[1;32m     28\u001b[0m         \u001b[0mroot\u001b[0m \u001b[0;34m=\u001b[0m \u001b[0mTree\u001b[0m\u001b[0;34m(\u001b[0m\u001b[0mdata\u001b[0m\u001b[0;34m)\u001b[0m\u001b[0;34m\u001b[0m\u001b[0;34m\u001b[0m\u001b[0m\n\u001b[1;32m     29\u001b[0m         \u001b[0;32mreturn\u001b[0m \u001b[0mroot\u001b[0m\u001b[0;34m\u001b[0m\u001b[0;34m\u001b[0m\u001b[0m\n\u001b[0;32m---> 30\u001b[0;31m     \u001b[0;32mwhile\u001b[0m \u001b[0mroot\u001b[0m\u001b[0;34m:\u001b[0m\u001b[0;34m\u001b[0m\u001b[0;34m\u001b[0m\u001b[0m\n\u001b[0m\u001b[1;32m     31\u001b[0m         \u001b[0mroot\u001b[0m\u001b[0;34m.\u001b[0m\u001b[0madd_child\u001b[0m\u001b[0;34m(\u001b[0m\u001b[0mdata\u001b[0m\u001b[0;34m,\u001b[0m\u001b[0mconnection\u001b[0m\u001b[0;34m)\u001b[0m\u001b[0;34m\u001b[0m\u001b[0;34m\u001b[0m\u001b[0m\n\u001b[1;32m     32\u001b[0m     \u001b[0;32mreturn\u001b[0m \u001b[0mroot\u001b[0m\u001b[0;34m\u001b[0m\u001b[0;34m\u001b[0m\u001b[0m\n",
      "\u001b[0;31mUnboundLocalError\u001b[0m: local variable 'root' referenced before assignment"
     ]
    }
   ],
   "source": [
    "class Tree:\n",
    "    def __init__(self,data):\n",
    "        self.data = data\n",
    "        self.left = None\n",
    "        self.right = None\n",
    "    def add_child(self,data,connection):\n",
    "        if connection == self.data:\n",
    "            if self.connection.left:\n",
    "                self.connection.right = Tree(data)\n",
    "            else:\n",
    "                self.connection.left = Tree(data)\n",
    "        else: #traverse\n",
    "            self.left.add_child(data,connection) \n",
    "            + self.right.add_child(data,connection)\n",
    "    def in_order_traversal(self):\n",
    "        elements =[]\n",
    "        if self.left:\n",
    "            elements +=self.left.in_order_traversal()\n",
    "        elements.append(self.data)\n",
    "        if self.right:\n",
    "            elements+=self.right.in_order_traversal()\n",
    "        return elements\n",
    "def build_tree(data,connection):\n",
    "#     if root ==None:\n",
    "#         root = Tree(data)\n",
    "#         return root\n",
    "    if connection ==0:\n",
    "        root = Tree(data)\n",
    "        return root\n",
    "    while root:\n",
    "        root.add_child(data,connection)\n",
    "    return root\n",
    "\n",
    "L =[0,1,1,2,2,3]\n",
    "my_tree =Tree(L)\n",
    "root = None\n",
    "for i,d in enumerate(L):\n",
    "    final = build_tree(i,d)\n",
    "order = final.in_order_traversal()\n",
    "print(order)\n",
    "            "
   ]
  },
  {
   "cell_type": "code",
   "execution_count": 8,
   "metadata": {},
   "outputs": [
    {
     "ename": "AttributeError",
     "evalue": "'int' object has no attribute 'data'",
     "output_type": "error",
     "traceback": [
      "\u001b[0;31m---------------------------------------------------------------------------\u001b[0m",
      "\u001b[0;31mAttributeError\u001b[0m                            Traceback (most recent call last)",
      "\u001b[0;32m<ipython-input-8-20b9428a148a>\u001b[0m in \u001b[0;36m<module>\u001b[0;34m\u001b[0m\n\u001b[1;32m     15\u001b[0m     \u001b[0;32mif\u001b[0m \u001b[0mc\u001b[0m \u001b[0;34m==\u001b[0m\u001b[0;36m0\u001b[0m\u001b[0;34m:\u001b[0m\u001b[0;34m\u001b[0m\u001b[0;34m\u001b[0m\u001b[0m\n\u001b[1;32m     16\u001b[0m         \u001b[0mroot\u001b[0m \u001b[0;34m=\u001b[0m \u001b[0mNode\u001b[0m\u001b[0;34m(\u001b[0m\u001b[0md\u001b[0m\u001b[0;34m)\u001b[0m\u001b[0;34m\u001b[0m\u001b[0;34m\u001b[0m\u001b[0m\n\u001b[0;32m---> 17\u001b[0;31m         \u001b[0mc\u001b[0m\u001b[0;34m.\u001b[0m\u001b[0mdata\u001b[0m \u001b[0;34m=\u001b[0m\u001b[0mroot\u001b[0m\u001b[0;34m\u001b[0m\u001b[0;34m\u001b[0m\u001b[0m\n\u001b[0m\u001b[1;32m     18\u001b[0m         \u001b[0;32mcontinue\u001b[0m\u001b[0;34m\u001b[0m\u001b[0;34m\u001b[0m\u001b[0m\n\u001b[1;32m     19\u001b[0m     \u001b[0;32melse\u001b[0m\u001b[0;34m:\u001b[0m\u001b[0;34m\u001b[0m\u001b[0;34m\u001b[0m\u001b[0m\n",
      "\u001b[0;31mAttributeError\u001b[0m: 'int' object has no attribute 'data'"
     ]
    }
   ],
   "source": [
    "class Node:\n",
    "    def __init__(self,data):        \n",
    "        self.left = None\n",
    "        self.right = None\n",
    "        self.data = data\n",
    "        \n",
    "    def printInorder(root): \n",
    "        if root:\n",
    "            printInorder(root.left)\n",
    "            print(root.val),\n",
    "            printInorder(root.right)\n",
    "\n",
    "L =[0,1,1,2,2,3]\n",
    "for d,c in enumerate(L,1):\n",
    "    if c ==0:\n",
    "        root = Node(d)\n",
    "        c.data =root\n",
    "        continue\n",
    "    else:\n",
    "        if c.left is not None:\n",
    "            c.right.data = Node(d)\n",
    "        else:\n",
    "            c.left.data = Node(d)\n",
    "        \n",
    "printInorder(root)   "
   ]
  },
  {
   "cell_type": "code",
   "execution_count": 12,
   "metadata": {},
   "outputs": [
    {
     "name": "stdout",
     "output_type": "stream",
     "text": [
      "1\n",
      "2\n",
      "3\n",
      "4\n",
      "5\n",
      "6\n",
      "None\n"
     ]
    }
   ],
   "source": [
    "class Node:\n",
    "    data=0\n",
    "    left=None\n",
    "    right=None\n",
    "def createNewNode(value):\n",
    "    temp=Node()\n",
    "    temp.data=value\n",
    "    temp.left=None\n",
    "    temp.right=None\n",
    "    return temp\n",
    "def newNode(root,connection,data):\n",
    "    if root is None:\n",
    "        root=createNewNode(data)\n",
    "    elif connection == root.data:\n",
    "        if root.left is None:\n",
    "            root.left=newNode(root,connection,data) #recurse only when connection data isn't equal to root\n",
    "        else:\n",
    "            root.right=newNode(root,connection,data)\n",
    "    else:\n",
    "        return newNode(root.left,connection,data) +newNode(root.right,connection,data)\n",
    "\n",
    "    return root\n",
    "def printInorder(root): \n",
    "    if root:\n",
    "        printInorder(root.left)\n",
    "        print(root.data),\n",
    "        printInorder(root.right)\n",
    "        \n",
    "\n",
    "L =[0,1,1,2,2,3]\n",
    "root = None\n",
    "for d,c in enumerate(L,1):\n",
    "    output = newNode(root,c,d)\n",
    "# result = printInorder(output)\n",
    "print(result)"
   ]
  },
  {
   "cell_type": "code",
   "execution_count": 16,
   "metadata": {},
   "outputs": [
    {
     "ename": "AttributeError",
     "evalue": "'NoneType' object has no attribute 'add_child'",
     "output_type": "error",
     "traceback": [
      "\u001b[0;31m---------------------------------------------------------------------------\u001b[0m",
      "\u001b[0;31mAttributeError\u001b[0m                            Traceback (most recent call last)",
      "\u001b[0;32m<ipython-input-16-8f83447434ae>\u001b[0m in \u001b[0;36m<module>\u001b[0;34m\u001b[0m\n\u001b[1;32m     25\u001b[0m \u001b[0mroot\u001b[0m \u001b[0;34m=\u001b[0m \u001b[0;32mNone\u001b[0m\u001b[0;34m\u001b[0m\u001b[0;34m\u001b[0m\u001b[0m\n\u001b[1;32m     26\u001b[0m \u001b[0;32mfor\u001b[0m \u001b[0md\u001b[0m\u001b[0;34m,\u001b[0m\u001b[0mc\u001b[0m \u001b[0;32min\u001b[0m \u001b[0menumerate\u001b[0m\u001b[0;34m(\u001b[0m\u001b[0mL\u001b[0m\u001b[0;34m,\u001b[0m\u001b[0;36m1\u001b[0m\u001b[0;34m)\u001b[0m\u001b[0;34m:\u001b[0m\u001b[0;34m\u001b[0m\u001b[0;34m\u001b[0m\u001b[0m\n\u001b[0;32m---> 27\u001b[0;31m     \u001b[0mroot\u001b[0m \u001b[0;34m=\u001b[0m \u001b[0mconstruct_tree\u001b[0m\u001b[0;34m(\u001b[0m\u001b[0md\u001b[0m\u001b[0;34m,\u001b[0m\u001b[0mc\u001b[0m\u001b[0;34m,\u001b[0m\u001b[0mroot\u001b[0m\u001b[0;34m)\u001b[0m\u001b[0;34m\u001b[0m\u001b[0;34m\u001b[0m\u001b[0m\n\u001b[0m",
      "\u001b[0;32m<ipython-input-16-8f83447434ae>\u001b[0m in \u001b[0;36mconstruct_tree\u001b[0;34m(pre, connection, root)\u001b[0m\n\u001b[1;32m     19\u001b[0m         \u001b[0mroot\u001b[0m \u001b[0;34m=\u001b[0m \u001b[0mBST\u001b[0m\u001b[0;34m(\u001b[0m\u001b[0mpre\u001b[0m\u001b[0;34m)\u001b[0m\u001b[0;34m\u001b[0m\u001b[0;34m\u001b[0m\u001b[0m\n\u001b[1;32m     20\u001b[0m     \u001b[0;32melse\u001b[0m\u001b[0;34m:\u001b[0m\u001b[0;34m\u001b[0m\u001b[0;34m\u001b[0m\u001b[0m\n\u001b[0;32m---> 21\u001b[0;31m         \u001b[0mroot\u001b[0m\u001b[0;34m.\u001b[0m\u001b[0madd_child\u001b[0m\u001b[0;34m(\u001b[0m\u001b[0mpre\u001b[0m\u001b[0;34m,\u001b[0m\u001b[0mconnection\u001b[0m\u001b[0;34m)\u001b[0m\u001b[0;34m\u001b[0m\u001b[0;34m\u001b[0m\u001b[0m\n\u001b[0m\u001b[1;32m     22\u001b[0m     \u001b[0;32mreturn\u001b[0m \u001b[0mroot\u001b[0m\u001b[0;34m\u001b[0m\u001b[0;34m\u001b[0m\u001b[0m\n\u001b[1;32m     23\u001b[0m \u001b[0;34m\u001b[0m\u001b[0m\n",
      "\u001b[0;32m<ipython-input-16-8f83447434ae>\u001b[0m in \u001b[0;36madd_child\u001b[0;34m(self, data, connection)\u001b[0m\n\u001b[1;32m     14\u001b[0m         \u001b[0;32melse\u001b[0m\u001b[0;34m:\u001b[0m  \u001b[0;31m#traverse\u001b[0m\u001b[0;34m\u001b[0m\u001b[0;34m\u001b[0m\u001b[0m\n\u001b[1;32m     15\u001b[0m             \u001b[0mself\u001b[0m\u001b[0;34m.\u001b[0m\u001b[0mleft\u001b[0m\u001b[0;34m.\u001b[0m\u001b[0madd_child\u001b[0m\u001b[0;34m(\u001b[0m\u001b[0mdata\u001b[0m\u001b[0;34m,\u001b[0m\u001b[0mconnection\u001b[0m\u001b[0;34m)\u001b[0m\u001b[0;34m\u001b[0m\u001b[0;34m\u001b[0m\u001b[0m\n\u001b[0;32m---> 16\u001b[0;31m             \u001b[0;34m+\u001b[0m \u001b[0mself\u001b[0m\u001b[0;34m.\u001b[0m\u001b[0mright\u001b[0m\u001b[0;34m.\u001b[0m\u001b[0madd_child\u001b[0m\u001b[0;34m(\u001b[0m\u001b[0mdata\u001b[0m\u001b[0;34m,\u001b[0m\u001b[0mconnection\u001b[0m\u001b[0;34m)\u001b[0m\u001b[0;34m\u001b[0m\u001b[0;34m\u001b[0m\u001b[0m\n\u001b[0m\u001b[1;32m     17\u001b[0m \u001b[0;32mdef\u001b[0m \u001b[0mconstruct_tree\u001b[0m\u001b[0;34m(\u001b[0m\u001b[0mpre\u001b[0m\u001b[0;34m,\u001b[0m\u001b[0mconnection\u001b[0m\u001b[0;34m,\u001b[0m\u001b[0mroot\u001b[0m\u001b[0;34m)\u001b[0m\u001b[0;34m:\u001b[0m\u001b[0;34m\u001b[0m\u001b[0;34m\u001b[0m\u001b[0m\n\u001b[1;32m     18\u001b[0m     \u001b[0;32mif\u001b[0m \u001b[0mroot\u001b[0m \u001b[0;32mis\u001b[0m \u001b[0;32mNone\u001b[0m\u001b[0;34m:\u001b[0m\u001b[0;34m\u001b[0m\u001b[0;34m\u001b[0m\u001b[0m\n",
      "\u001b[0;32m<ipython-input-16-8f83447434ae>\u001b[0m in \u001b[0;36madd_child\u001b[0;34m(self, data, connection)\u001b[0m\n\u001b[1;32m     13\u001b[0m                 \u001b[0mself\u001b[0m\u001b[0;34m.\u001b[0m\u001b[0mright\u001b[0m \u001b[0;34m=\u001b[0m \u001b[0mBST\u001b[0m\u001b[0;34m(\u001b[0m\u001b[0mdata\u001b[0m\u001b[0;34m)\u001b[0m\u001b[0;34m\u001b[0m\u001b[0;34m\u001b[0m\u001b[0m\n\u001b[1;32m     14\u001b[0m         \u001b[0;32melse\u001b[0m\u001b[0;34m:\u001b[0m  \u001b[0;31m#traverse\u001b[0m\u001b[0;34m\u001b[0m\u001b[0;34m\u001b[0m\u001b[0m\n\u001b[0;32m---> 15\u001b[0;31m             \u001b[0mself\u001b[0m\u001b[0;34m.\u001b[0m\u001b[0mleft\u001b[0m\u001b[0;34m.\u001b[0m\u001b[0madd_child\u001b[0m\u001b[0;34m(\u001b[0m\u001b[0mdata\u001b[0m\u001b[0;34m,\u001b[0m\u001b[0mconnection\u001b[0m\u001b[0;34m)\u001b[0m\u001b[0;34m\u001b[0m\u001b[0;34m\u001b[0m\u001b[0m\n\u001b[0m\u001b[1;32m     16\u001b[0m             \u001b[0;34m+\u001b[0m \u001b[0mself\u001b[0m\u001b[0;34m.\u001b[0m\u001b[0mright\u001b[0m\u001b[0;34m.\u001b[0m\u001b[0madd_child\u001b[0m\u001b[0;34m(\u001b[0m\u001b[0mdata\u001b[0m\u001b[0;34m,\u001b[0m\u001b[0mconnection\u001b[0m\u001b[0;34m)\u001b[0m\u001b[0;34m\u001b[0m\u001b[0;34m\u001b[0m\u001b[0m\n\u001b[1;32m     17\u001b[0m \u001b[0;32mdef\u001b[0m \u001b[0mconstruct_tree\u001b[0m\u001b[0;34m(\u001b[0m\u001b[0mpre\u001b[0m\u001b[0;34m,\u001b[0m\u001b[0mconnection\u001b[0m\u001b[0;34m,\u001b[0m\u001b[0mroot\u001b[0m\u001b[0;34m)\u001b[0m\u001b[0;34m:\u001b[0m\u001b[0;34m\u001b[0m\u001b[0;34m\u001b[0m\u001b[0m\n",
      "\u001b[0;31mAttributeError\u001b[0m: 'NoneType' object has no attribute 'add_child'"
     ]
    }
   ],
   "source": [
    "class BST():\n",
    "    def __init__(self,data):\n",
    "        self.data = data\n",
    "        self.left = None\n",
    "        self.right = None\n",
    "        \n",
    "    def add_child(self,data,connection):\n",
    "#         if self.data ==conection.data:\n",
    "        if self.data == connection:\n",
    "            if self.left is None:\n",
    "                self.left = BST(data)\n",
    "                return root\n",
    "            else:\n",
    "                self.right = BST(data)\n",
    "        else:  #traverse\n",
    "            if self.left:\n",
    "                self.left.add_child(data,connection)\n",
    "            else:\n",
    "                self.right.add_child(data,connection)\n",
    "def construct_tree(pre,connection,root):\n",
    "    if root is None:\n",
    "        root = BST(pre)\n",
    "    else:\n",
    "        root.add_child(pre,connection)\n",
    "    return root\n",
    "\n",
    "L = [0,1,1,2,2,3]\n",
    "root = None\n",
    "for d,c in enumerate(L,1):\n",
    "    root = construct_tree(d,c,root)"
   ]
  },
  {
   "cell_type": "code",
   "execution_count": 4,
   "metadata": {},
   "outputs": [
    {
     "name": "stdout",
     "output_type": "stream",
     "text": [
      "3 5 7\n"
     ]
    }
   ],
   "source": [
    "L = [3,5,7]\n",
    "print(*L, sep= ' ')"
   ]
  },
  {
   "cell_type": "code",
   "execution_count": 7,
   "metadata": {},
   "outputs": [
    {
     "ename": "KeyboardInterrupt",
     "evalue": "Interrupted by user",
     "output_type": "error",
     "traceback": [
      "\u001b[0;31m---------------------------------------------------------------------------\u001b[0m",
      "\u001b[0;31mKeyboardInterrupt\u001b[0m                         Traceback (most recent call last)",
      "\u001b[0;32m<ipython-input-7-f88836d2c28a>\u001b[0m in \u001b[0;36m<module>\u001b[0;34m\u001b[0m\n\u001b[1;32m     48\u001b[0m \u001b[0mroot\u001b[0m \u001b[0;34m=\u001b[0m \u001b[0;32mNone\u001b[0m\u001b[0;34m\u001b[0m\u001b[0;34m\u001b[0m\u001b[0m\n\u001b[1;32m     49\u001b[0m \u001b[0melements\u001b[0m \u001b[0;34m=\u001b[0m\u001b[0;34m[\u001b[0m\u001b[0;34m]\u001b[0m\u001b[0;34m\u001b[0m\u001b[0;34m\u001b[0m\u001b[0m\n\u001b[0;32m---> 50\u001b[0;31m \u001b[0mL\u001b[0m \u001b[0;34m=\u001b[0m \u001b[0mlist\u001b[0m\u001b[0;34m(\u001b[0m\u001b[0mmap\u001b[0m\u001b[0;34m(\u001b[0m\u001b[0mint\u001b[0m\u001b[0;34m,\u001b[0m\u001b[0minput\u001b[0m\u001b[0;34m(\u001b[0m\u001b[0;34m)\u001b[0m\u001b[0;34m.\u001b[0m\u001b[0msplit\u001b[0m\u001b[0;34m(\u001b[0m\u001b[0;34m)\u001b[0m\u001b[0;34m)\u001b[0m\u001b[0;34m)\u001b[0m\u001b[0;34m\u001b[0m\u001b[0;34m\u001b[0m\u001b[0m\n\u001b[0m\u001b[1;32m     51\u001b[0m \u001b[0;32mfor\u001b[0m \u001b[0md\u001b[0m\u001b[0;34m,\u001b[0m\u001b[0mc\u001b[0m \u001b[0;32min\u001b[0m \u001b[0menumerate\u001b[0m\u001b[0;34m(\u001b[0m\u001b[0mL\u001b[0m\u001b[0;34m,\u001b[0m\u001b[0;36m1\u001b[0m\u001b[0;34m)\u001b[0m\u001b[0;34m:\u001b[0m\u001b[0;34m\u001b[0m\u001b[0;34m\u001b[0m\u001b[0m\n\u001b[1;32m     52\u001b[0m     \u001b[0mroot\u001b[0m \u001b[0;34m=\u001b[0m \u001b[0mconstruct_tree\u001b[0m\u001b[0;34m(\u001b[0m\u001b[0md\u001b[0m\u001b[0;34m,\u001b[0m\u001b[0mc\u001b[0m\u001b[0;34m,\u001b[0m\u001b[0mroot\u001b[0m\u001b[0;34m)\u001b[0m\u001b[0;34m\u001b[0m\u001b[0;34m\u001b[0m\u001b[0m\n",
      "\u001b[0;32m~/.local/lib/python3.6/site-packages/ipykernel/kernelbase.py\u001b[0m in \u001b[0;36mraw_input\u001b[0;34m(self, prompt)\u001b[0m\n\u001b[1;32m    861\u001b[0m             \u001b[0mself\u001b[0m\u001b[0;34m.\u001b[0m\u001b[0m_parent_ident\u001b[0m\u001b[0;34m,\u001b[0m\u001b[0;34m\u001b[0m\u001b[0;34m\u001b[0m\u001b[0m\n\u001b[1;32m    862\u001b[0m             \u001b[0mself\u001b[0m\u001b[0;34m.\u001b[0m\u001b[0m_parent_header\u001b[0m\u001b[0;34m,\u001b[0m\u001b[0;34m\u001b[0m\u001b[0;34m\u001b[0m\u001b[0m\n\u001b[0;32m--> 863\u001b[0;31m             \u001b[0mpassword\u001b[0m\u001b[0;34m=\u001b[0m\u001b[0;32mFalse\u001b[0m\u001b[0;34m,\u001b[0m\u001b[0;34m\u001b[0m\u001b[0;34m\u001b[0m\u001b[0m\n\u001b[0m\u001b[1;32m    864\u001b[0m         )\n\u001b[1;32m    865\u001b[0m \u001b[0;34m\u001b[0m\u001b[0m\n",
      "\u001b[0;32m~/.local/lib/python3.6/site-packages/ipykernel/kernelbase.py\u001b[0m in \u001b[0;36m_input_request\u001b[0;34m(self, prompt, ident, parent, password)\u001b[0m\n\u001b[1;32m    902\u001b[0m             \u001b[0;32mexcept\u001b[0m \u001b[0mKeyboardInterrupt\u001b[0m\u001b[0;34m:\u001b[0m\u001b[0;34m\u001b[0m\u001b[0;34m\u001b[0m\u001b[0m\n\u001b[1;32m    903\u001b[0m                 \u001b[0;31m# re-raise KeyboardInterrupt, to truncate traceback\u001b[0m\u001b[0;34m\u001b[0m\u001b[0;34m\u001b[0m\u001b[0;34m\u001b[0m\u001b[0m\n\u001b[0;32m--> 904\u001b[0;31m                 \u001b[0;32mraise\u001b[0m \u001b[0mKeyboardInterrupt\u001b[0m\u001b[0;34m(\u001b[0m\u001b[0;34m\"Interrupted by user\"\u001b[0m\u001b[0;34m)\u001b[0m \u001b[0;32mfrom\u001b[0m \u001b[0;32mNone\u001b[0m\u001b[0;34m\u001b[0m\u001b[0;34m\u001b[0m\u001b[0m\n\u001b[0m\u001b[1;32m    905\u001b[0m             \u001b[0;32mexcept\u001b[0m \u001b[0mException\u001b[0m \u001b[0;32mas\u001b[0m \u001b[0me\u001b[0m\u001b[0;34m:\u001b[0m\u001b[0;34m\u001b[0m\u001b[0;34m\u001b[0m\u001b[0m\n\u001b[1;32m    906\u001b[0m                 \u001b[0mself\u001b[0m\u001b[0;34m.\u001b[0m\u001b[0mlog\u001b[0m\u001b[0;34m.\u001b[0m\u001b[0mwarning\u001b[0m\u001b[0;34m(\u001b[0m\u001b[0;34m\"Invalid Message:\"\u001b[0m\u001b[0;34m,\u001b[0m \u001b[0mexc_info\u001b[0m\u001b[0;34m=\u001b[0m\u001b[0;32mTrue\u001b[0m\u001b[0;34m)\u001b[0m\u001b[0;34m\u001b[0m\u001b[0;34m\u001b[0m\u001b[0m\n",
      "\u001b[0;31mKeyboardInterrupt\u001b[0m: Interrupted by user"
     ]
    }
   ],
   "source": [
    "class BST():\n",
    "    def __init__(self,data):\n",
    "        self.data = data\n",
    "        self.left = None\n",
    "        self.right = None\n",
    "        \n",
    "    def add_child(self,data,connection):\n",
    "#         if self.data ==conection.data:\n",
    "        if self.data == connection:\n",
    "            if self.left is None:\n",
    "                self.left = BST(data)\n",
    "                return root\n",
    "            else:\n",
    "                self.right = BST(data)\n",
    "        else:  #traverse\n",
    "            output = ifNodeExists(root,connection)\n",
    "            # self.data = output\n",
    "            # self.add_child(data,connection)\n",
    "            output.add_child(data,connection)\n",
    "def construct_tree(pre,connection,root):\n",
    "    if root is None:\n",
    "        root = BST(pre)\n",
    "    else:\n",
    "        root.add_child(pre,connection)\n",
    "    return root\n",
    "def searchn(root,elements):\n",
    "    # elements =[]\n",
    "    if root:\n",
    "        if root.left is None and root.right is None:\n",
    "            elements.append(root.data)\n",
    "        else:\n",
    "            searchn(root.left,elements)\n",
    "            searchn(root.right,elements)\n",
    "    return elements\n",
    "\n",
    "def ifNodeExists(node, key):\n",
    "    if (node == None):\n",
    "        return False\n",
    "    if (node.data == key):\n",
    "        return node\n",
    "    else:\n",
    "        res1 = ifNodeExists(node.left, key)\n",
    "        if res1:\n",
    "            return node.left\n",
    "        res2 = ifNodeExists(node.right, key) \n",
    "        return res2\n",
    "\n",
    "root = None\n",
    "elements =[]\n",
    "L = list(map(int,input().split()))\n",
    "for d,c in enumerate(L,1):\n",
    "    root = construct_tree(d,c,root)\n",
    "result = searchn(root,elements)\n",
    "print(*result,sep = ' ')"
   ]
  },
  {
   "cell_type": "code",
   "execution_count": 9,
   "metadata": {},
   "outputs": [
    {
     "name": "stdout",
     "output_type": "stream",
     "text": [
      "{0, 1, 2, 3}\n",
      "no\n"
     ]
    }
   ],
   "source": [
    "L =[0,1,1,2,2,3]\n",
    "k = set(L)\n",
    "print(k)\n",
    "M = 9\n",
    "if M not in k: \n",
    "    print('no')"
   ]
  },
  {
   "cell_type": "code",
   "execution_count": 4,
   "metadata": {},
   "outputs": [
    {
     "name": "stdout",
     "output_type": "stream",
     "text": [
      "[1, 1, 1, 1]\n"
     ]
    }
   ],
   "source": [
    "n = 3\n",
    "l=[1]*(n+1)\n",
    "print(l)"
   ]
  },
  {
   "cell_type": "code",
   "execution_count": 14,
   "metadata": {},
   "outputs": [
    {
     "name": "stdout",
     "output_type": "stream",
     "text": [
      "['a', 'b', 'c', 'd', 'e', 'f', 'g', 'h', 'i', 'j', 'k', 'l', 'm', 'n', 'o', 'p', 'q', 'r', 's', 't', 'u', 'v', 'w', 'x', 'y', 'z']\n"
     ]
    }
   ],
   "source": [
    "import string\n",
    "L = list(i for i in string.ascii_lowercase)\n",
    "print(L)"
   ]
  },
  {
   "cell_type": "code",
   "execution_count": 4,
   "metadata": {},
   "outputs": [
    {
     "name": "stdin",
     "output_type": "stream",
     "text": [
      " 3\n",
      " (a+(b*c))\n"
     ]
    },
    {
     "name": "stdout",
     "output_type": "stream",
     "text": [
      "abc*+\n"
     ]
    },
    {
     "name": "stdin",
     "output_type": "stream",
     "text": [
      " ((a+b)*(z+x))\n"
     ]
    },
    {
     "name": "stdout",
     "output_type": "stream",
     "text": [
      "ab+zx+*\n"
     ]
    },
    {
     "name": "stdin",
     "output_type": "stream",
     "text": [
      " ((a+t)*((b+(a+c))^(c+d)))\n"
     ]
    },
    {
     "name": "stdout",
     "output_type": "stream",
     "text": [
      "at+bac++cd+^*\n"
     ]
    }
   ],
   "source": [
    "# cook your dish here\n",
    "import string\n",
    "L = list(i for i in string.ascii_lowercase)\n",
    "operator =['+','-','*','^','/']\n",
    "t = int(input())\n",
    "for co in range(t):\n",
    "    E= str(input())\n",
    "    stack=[]\n",
    "    output = None\n",
    "    for i in E:\n",
    "        if i =='(' or i in operator:\n",
    "            stack.append(i)\n",
    "        elif i in L:\n",
    "            print(i,end = '')\n",
    "        elif i==')':\n",
    "            while output!='(':\n",
    "                output = stack.pop()\n",
    "                if output !='(':\n",
    "                    print(output,end = '') \n",
    "            else:\n",
    "                output = None\n",
    "                continue   \n",
    "    print()"
   ]
  },
  {
   "cell_type": "code",
   "execution_count": 10,
   "metadata": {},
   "outputs": [
    {
     "name": "stdin",
     "output_type": "stream",
     "text": [
      " 3\n",
      " 1 1 1 2 3\n"
     ]
    },
    {
     "name": "stdout",
     "output_type": "stream",
     "text": [
      "0\n"
     ]
    },
    {
     "name": "stdin",
     "output_type": "stream",
     "text": [
      " 10 1 1 2 3\n"
     ]
    },
    {
     "name": "stdout",
     "output_type": "stream",
     "text": [
      "1\n"
     ]
    },
    {
     "name": "stdin",
     "output_type": "stream",
     "text": [
      " 10 3 1 2 3\n"
     ]
    },
    {
     "name": "stdout",
     "output_type": "stream",
     "text": [
      "2\n"
     ]
    }
   ],
   "source": [
    "d1 = 10\n",
    "d2 = 21\n",
    "d3 = 42\n",
    "t = int(input())\n",
    "for co in range(t):\n",
    "    \n",
    "    D,d,A,B,C = map(int,input().split())\n",
    "    total_d = D*d\n",
    "\n",
    "    if total_d >= d3:\n",
    "        print(C)\n",
    "\n",
    "    elif total_d >=d2:\n",
    "        print(B)\n",
    "\n",
    "    elif total_d >=d1:\n",
    "        print(A)\n",
    "    else:\n",
    "        print(0)"
   ]
  },
  {
   "cell_type": "code",
   "execution_count": 9,
   "metadata": {},
   "outputs": [
    {
     "ename": "SyntaxError",
     "evalue": "invalid syntax (<ipython-input-9-e3c9cc5b692b>, line 3)",
     "output_type": "error",
     "traceback": [
      "\u001b[0;36m  File \u001b[0;32m\"<ipython-input-9-e3c9cc5b692b>\"\u001b[0;36m, line \u001b[0;32m3\u001b[0m\n\u001b[0;31m    for co in range(t):\u001b[0m\n\u001b[0m                      ^\u001b[0m\n\u001b[0;31mSyntaxError\u001b[0m\u001b[0;31m:\u001b[0m invalid syntax\n"
     ]
    }
   ],
   "source": [
    "\n",
    "t = int(input()\n",
    "\n",
    "for co in range(t):\n",
    "    L = []\n",
    "    G,Pi,a,b,c,d,e,f,g,h,m,j = map(int,input().split())\n",
    "    P = Pi\n",
    "    L.append(a)\n",
    "    L.append(b)\n",
    "    L.append(c)\n",
    "    L.append(d)\n",
    "    L.append(e)\n",
    "    L.append(f)\n",
    "    L.append(g)\n",
    "    L.append(h)\n",
    "    L.append(m)\n",
    "    L.append(j)\n",
    "    count = 0\n",
    "    maximum = 0 \n",
    "    minimum = 0 \n",
    "    i = 9\n",
    "    # for i  in reversed(range(len(L))):\n",
    "    while i!=0:\n",
    "        if L[i] ==P:\n",
    "            # L[i]==0 \n",
    "            count+=1\n",
    "            if i+1 == G:\n",
    "                maximum = count\n",
    "                minimum = count\n",
    "                break\n",
    "        elif L[i] < P: #case where vaccines are left,we still need to call previous batch\n",
    "            L[i] = L[i] - P\n",
    "            P =0\n",
    "            if i+1 == G:\n",
    "                minimum = count\n",
    "                maximum = count\n",
    "                break\n",
    "            continue\n",
    "            \n",
    "        elif L[i]>P: #number of ppl in a batch are left,i.e there are more ppl in that batch than de\n",
    "            L[i] = L[i] -P\n",
    "            P = 0\n",
    "            count+=1 #patients gotta wait for next day\n",
    "            if i+1 ==G:\n",
    "                minimum = count \n",
    "        while L[i] !=0 and P ==0:\n",
    "    #another day situation\n",
    "            if L[i] ==Pi:\n",
    "                L[i]=0\n",
    "                count+=1\n",
    "                if i+1 ==G:\n",
    "                    maximum = count\n",
    "                    break\n",
    "            elif L[i] < Pi: #ppl are still left but now we can iterate to go the previous batch\n",
    "                P = Pi -L[i]\n",
    "                L[i] = 0\n",
    "                if i +1==G:\n",
    "                    maximum = count+1\n",
    "                    break\n",
    "            elif L[i] > Pi: #there are too many ppl,ppl of this group gotta wait for one more day\n",
    "                L[i] = L[i] -Pi\n",
    "                count +=1\n",
    "        i -=1        \n",
    "# print(count)\n",
    "    print(minimum,maximum)"
   ]
  },
  {
   "cell_type": "code",
   "execution_count": 7,
   "metadata": {},
   "outputs": [],
   "source": [
    "L =[a,b,c,d,e,f,g,h,i,j]\n",
    "for i in reversed(range(len(L),1)):\n",
    "    print(L[i])"
   ]
  },
  {
   "cell_type": "code",
   "execution_count": 2,
   "metadata": {},
   "outputs": [
    {
     "name": "stdout",
     "output_type": "stream",
     "text": [
      "6\n"
     ]
    }
   ],
   "source": [
    "import math\n",
    "\n",
    "def LCMofArray(a):\n",
    "    lcm = a[0]\n",
    "    for i in range(1,len(a)):\n",
    "        lcm = lcm*a[i]//math.gcd(lcm, a[i])\n",
    "    return lcm\n",
    "\n",
    "arr =[2,3]\n",
    "output = LCMofArray(arr)\n",
    "print(output)"
   ]
  },
  {
   "cell_type": "code",
   "execution_count": 4,
   "metadata": {},
   "outputs": [
    {
     "name": "stdin",
     "output_type": "stream",
     "text": [
      " 2 10\n"
     ]
    },
    {
     "name": "stdout",
     "output_type": "stream",
     "text": [
      "YES\n"
     ]
    }
   ],
   "source": [
    "import math\n",
    "\n",
    "def LCMofArray(a,b):\n",
    "#     lcm = a[0]\n",
    "#     for i in range(1,len(a)):\n",
    "    lcm = a*b//math.gcd(a,b)\n",
    "    return lcm\n",
    "\n",
    "N,K = map(int,input().split())\n",
    "# arr = list(map(int,input().split())\n",
    "arr =[2,3]\n",
    "lcm = LCMofArray(arr[0],arr[1])\n",
    "output = True\n",
    "for i in range(2,len(arr)):\n",
    "    lcm = LCMofArray(lcm,arr[i])\n",
    "    if k%lcm != 0:\n",
    "        output = False\n",
    "if output:\n",
    "    print('YES')\n",
    "else:\n",
    "    print('NO')"
   ]
  },
  {
   "cell_type": "code",
   "execution_count": 8,
   "metadata": {},
   "outputs": [
    {
     "name": "stdin",
     "output_type": "stream",
     "text": [
      " 1\n",
      " 9 4 2 2 2 2 3 2 2 2 2 2\n"
     ]
    },
    {
     "name": "stdout",
     "output_type": "stream",
     "text": [
      "0 0\n"
     ]
    }
   ],
   "source": [
    "\n",
    "t = int(input())\n",
    "\n",
    "for co in range(t):\n",
    "    L = []\n",
    "    L =[0,0,0,0,0,0,0,0,0,0]\n",
    "    G,Pi,L[0],L[1],L[2],L[3],L[4],L[5],L[6],L[7],L[8],L[9] = map(int,input().split())\n",
    "    P = Pi\n",
    "    count = 0\n",
    "    maximum = 0 \n",
    "    minimum = 0 \n",
    "    i = 9\n",
    "    for i  in reversed(range(len(L))):\n",
    "    # while i!=0:\n",
    "        if L[i] ==P:\n",
    "            # L[i]==0 \n",
    "            count+=1\n",
    "            if i+1 == G:\n",
    "                maximum = count\n",
    "                minimum = count\n",
    "                break\n",
    "        elif L[i] < P: #case where vaccines are left,we still need to call previous batch\n",
    "            L[i] = L[i] - P\n",
    "#             P =0\n",
    "            if i+1 == G:\n",
    "                minimum = count\n",
    "                maximum = count\n",
    "                break\n",
    "            continue\n",
    "            \n",
    "        elif L[i]>P: #number of ppl in a batch are left,i.e there are more ppl in that batch than daily dose\n",
    "            L[i] = L[i] -P\n",
    "            P = 0\n",
    "            count+=1 #patients gotta wait for next day\n",
    "            if i+1 ==G:\n",
    "                minimum = count \n",
    "        while L[i] !=0 and P ==0:\n",
    "    #another day situation\n",
    "            if L[i] ==Pi:\n",
    "                L[i]=0\n",
    "                count+=1\n",
    "                if i+1 ==G:\n",
    "                    maximum = count\n",
    "                    break\n",
    "            elif L[i] < Pi: #ppl are still left but now we can iterate to go the previous batch\n",
    "                P = Pi -L[i]\n",
    "                L[i] = 0\n",
    "                if i +1==G:\n",
    "                    maximum = count+1\n",
    "                    break\n",
    "            elif L[i] > Pi: #there are too many ppl,ppl of this group gotta wait for one more day\n",
    "                L[i] = L[i] -Pi\n",
    "                count +=1\n",
    " \n",
    "    print(minimum,maximum)"
   ]
  },
  {
   "cell_type": "code",
   "execution_count": 11,
   "metadata": {},
   "outputs": [
    {
     "name": "stdout",
     "output_type": "stream",
     "text": [
      "55\n"
     ]
    }
   ],
   "source": [
    "a = 110\n",
    "output = a>>1\n",
    "print(output)"
   ]
  },
  {
   "cell_type": "code",
   "execution_count": 5,
   "metadata": {},
   "outputs": [
    {
     "name": "stdin",
     "output_type": "stream",
     "text": [
      " 1\n",
      " 10 3 100 50\n"
     ]
    },
    {
     "name": "stdout",
     "output_type": "stream",
     "text": [
      "2500\n"
     ]
    }
   ],
   "source": [
    "t = int(input())\n",
    "for _ in range(t):\n",
    "    D,d,P,Q = map(int,input().split())\n",
    "\n",
    "    N,B =D//d, D - N*d #D//d gives no of batches; B is value less than d which couldn't be multiplied to d\n",
    "    M = N * (N -1) * Q\n",
    "    print(int((N *d *(P + M/2) + B* (N*Q + P))))"
   ]
  },
  {
   "cell_type": "code",
   "execution_count": null,
   "metadata": {},
   "outputs": [],
   "source": []
  },
  {
   "cell_type": "code",
   "execution_count": 5,
   "metadata": {},
   "outputs": [
    {
     "name": "stdout",
     "output_type": "stream",
     "text": [
      "1600\n",
      "0.876482\n"
     ]
    }
   ],
   "source": [
    "#0.62 sec\n",
    "import time\n",
    "D,d,P,Q = 10,3,100,50\n",
    "N = D//d  #no of batches\n",
    "product = int(N*d)\n",
    "NxQ = N*Q\n",
    "B = D - product #remaining days which can't be grouped  D%d is a bad idea\n",
    "amount = int(product * (P + (NxQ -Q) /2))\n",
    "# print(amount)\n",
    "if B==0:\n",
    "    print(amount)\n",
    "else:\n",
    "    extra = B*P + NxQ*B\n",
    "    print(int(extra) + amount)\n",
    "print(time.clock())    "
   ]
  },
  {
   "cell_type": "code",
   "execution_count": 11,
   "metadata": {},
   "outputs": [
    {
     "name": "stdout",
     "output_type": "stream",
     "text": [
      "5\n",
      "No\n"
     ]
    }
   ],
   "source": [
    "L = [1,0,0,0,1,1,0] \n",
    "L.reverse() #L becomes [0,1,1,0,0,0,1] 1 (7-1 - 1)\n",
    "index = L.index(1)\n",
    "output = len(L) - index - 1 #the latest \n",
    "print(output) \n",
    "if 3 in L:\n",
    "    print('Yes')\n",
    "else:\n",
    "    print('No')"
   ]
  },
  {
   "cell_type": "code",
   "execution_count": 2,
   "metadata": {},
   "outputs": [
    {
     "name": "stdin",
     "output_type": "stream",
     "text": [
      " 6 3 9\n"
     ]
    },
    {
     "name": "stdout",
     "output_type": "stream",
     "text": [
      "2\n",
      "0\n",
      "0\n"
     ]
    }
   ],
   "source": [
    "N,M = 9 , 3 # there are 9 stations and 1 passenger\n",
    "station = [1,0,1,1,0,0,1,0,1]\n",
    "destinations = list(map(int,input().split()))\n",
    "for i in range(M):\n",
    "    dest = destinations[i]\n",
    "    if station[dest-1] == 1 or station[dest-1] ==2:# a train is already standing there\n",
    "        print(0)\n",
    "    else:\n",
    "        if station[dest] == 2:\n",
    "            print(1)\n",
    "        else:\n",
    "            list2 = station[:dest]\n",
    "            list2.reverse()\n",
    "            index = len(list2) - list2.index(1) - 1\n",
    "            output = dest - index - 1\n",
    "            print(output)"
   ]
  },
  {
   "cell_type": "code",
   "execution_count": 26,
   "metadata": {},
   "outputs": [
    {
     "name": "stdout",
     "output_type": "stream",
     "text": [
      "5 9 \n",
      "2.845929\n"
     ]
    }
   ],
   "source": [
    "import time\n",
    "N,M =10,2\n",
    "station = [1,2,0,0,0,0,0,0,0,0]\n",
    "destination = [6,10]\n",
    "for i in range(M):\n",
    "    dest = destination[i] - 1\n",
    "    if station[0] == 2 and dest!=0: #i.e nothing can happen as the train is not moving forward at all\n",
    "        print(-1,end = ' ')\n",
    "        continue\n",
    "    elif station[0] == 2 and dest==0:\n",
    "        print(0,end = ' ')\n",
    "    else:\n",
    "        list1 = station[: dest+1]\n",
    "        list1.reverse()\n",
    "        trav_forward = dest - (dest-list1.index(1))  #since there is gonna be atleast one '1' for sure\n",
    "        if 2 in station[dest:]:\n",
    "            list2 = station[dest: ]\n",
    "            trav_backward = list2.index(2)\n",
    "            print(min(trav_forward,trav_backward),end = ' ')\n",
    "        else:\n",
    "            print(trav_forward,end = ' ')\n",
    "print()\n",
    "print(time.clock()) "
   ]
  },
  {
   "cell_type": "code",
   "execution_count": null,
   "metadata": {},
   "outputs": [],
   "source": []
  }
 ],
 "metadata": {
  "kernelspec": {
   "display_name": "Python 3",
   "language": "python",
   "name": "python3"
  },
  "language_info": {
   "codemirror_mode": {
    "name": "ipython",
    "version": 3
   },
   "file_extension": ".py",
   "mimetype": "text/x-python",
   "name": "python",
   "nbconvert_exporter": "python",
   "pygments_lexer": "ipython3",
   "version": "3.8.5"
  }
 },
 "nbformat": 4,
 "nbformat_minor": 4
}
